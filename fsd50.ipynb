{
 "cells": [
  {
   "cell_type": "markdown",
   "metadata": {},
   "source": [
    "# Loading FSD50k DataSet\n",
    "\n",
    "> Contains example code of how to load the FSD50k data"
   ]
  },
  {
   "cell_type": "markdown",
   "metadata": {},
   "source": [
    "## Installation\n",
    "\n",
    "This notebook was tested on an Ubuntu machine.\n",
    "\n",
    "**Dependencies:** `wget`"
   ]
  },
  {
   "cell_type": "markdown",
   "metadata": {},
   "source": [
    "## Important details\n",
    "\n",
    "#### Basic characteristics:\n",
    "\n",
    "* FSD50K contains 51,197 audio clips from Freesound, totalling 108.3 hours of multi-labeled audio\n",
    "* The dataset encompasses 200 sound classes (144 leaf nodes and 56 intermediate nodes) hierarchically organized with a subset of the AudioSet Ontology.\n",
    "* The audio content is composed mainly of sound events produced by physical sound sources and production mechanisms, including human sounds, sounds of things, animals, natural sounds, musical instruments and more. The vocabulary can be inspected in vocabulary.csv (see Files section below).\n",
    "* The acoustic material has been manually labeled by humans following a data labeling process using the Freesound Annotator platform [2]. \n",
    "* Clips are of variable length from 0.3 to 30s, due to the diversity of the sound classes and the preferences of Freesound users when recording sounds.\n",
    "* All clips are provided as uncompressed PCM 16 bit 44.1 kHz mono audio files.\n",
    "* Ground truth labels are provided at the clip-level (i.e., weak labels).\n",
    "* The dataset poses mainly a large-vocabulary multi-label sound event classification problem, but also allows development and evaluation of a variety of machine listening approaches (see Sec. 4D in our paper).\n",
    "* In addition to audio clips and ground truth, additional metadata is made available (including raw annotations, sound predominance ratings, Freesound metadata, and more), allowing a variety of analyses and sound event research tasks (see Files section below).\n",
    "* The audio clips are grouped into a development (dev) set and an evaluation (eval) set such that they do not have clips from the same Freesound uploader.\n",
    "\n",
    "#### Dev set:\n",
    "\n",
    "* 40,966 audio clips totalling 80.4 hours of audio\n",
    "* Avg duration/clip: 7.1s\n",
    "* 114,271 smeared labels (i.e., labels propagated in the upwards direction to the root of the ontology)\n",
    "* Labels are correct but could be occasionally incomplete\n",
    "* A train/validation split is provided (Sec. 3H). If a different split is used, it should be specified for reproducibility and fair comparability of results (see Sec. 5C of our paper)\n",
    "\n",
    "#### Eval set:\n",
    "\n",
    "* 10,231 audio clips totalling 27.9 hours of audio\n",
    "* Avg duration/clip: 9.8s\n",
    "* 38,596 smeared labels\n",
    "* Eval set is labeled exhaustively (labels are correct and complete for the considered vocabulary)\n",
    "\n",
    "_Note: All classes in FSD50K are represented in AudioSet, except Crash cymbal, Human group actions, Human voice, Respiratory sounds, and Domestic sounds, home sounds._"
   ]
  },
  {
   "cell_type": "markdown",
   "metadata": {},
   "source": [
    "> For more details on the dataset see https://zenodo.org/record/4060432 "
   ]
  },
  {
   "cell_type": "markdown",
   "metadata": {},
   "source": [
    "## Downloading the Data\n",
    "\n",
    "> Run only when necessary"
   ]
  },
  {
   "cell_type": "code",
   "execution_count": 8,
   "metadata": {},
   "outputs": [
    {
     "name": "stdout",
     "output_type": "stream",
     "text": [
      "env: DATA_PATH=data/fsd50k\n"
     ]
    }
   ],
   "source": [
    "%env DATA_PATH=data/fsd50k"
   ]
  },
  {
   "cell_type": "code",
   "execution_count": 20,
   "metadata": {},
   "outputs": [],
   "source": [
    "# Metadata\n",
    "!wget -q -c -O ${DATA_PATH}/metadata.zip https://zenodo.org/record/4060432/files/FSD50K.metadata.zip?download=1\n",
    "!wget -q -c -O ${DATA_PATH}/ground_truth.zip https://zenodo.org/record/4060432/files/FSD50K.ground_truth.zip?download=1\n",
    "!wget -q -c -O ${DATA_PATH}/doc.zip https://zenodo.org/record/4060432/files/FSD50K.doc.zip?download=1 \n",
    "\n",
    "!unzip -q ${DATA_PATH}/metadata.zip -d ${DATA_PATH}/\n",
    "!unzip -q ${DATA_PATH}/ground_truth.zip -d ${DATA_PATH}/\n",
    "!unzip -q ${DATA_PATH}/doc.zip -d ${DATA_PATH}/"
   ]
  },
  {
   "cell_type": "code",
   "execution_count": 21,
   "metadata": {},
   "outputs": [],
   "source": [
    "# Dev Audio\n",
    "!wget -q -c -O ${DATA_PATH}/dev_audio.z01 https://zenodo.org/record/4060432/files/FSD50K.dev_audio.z01?download=1\n",
    "!wget -q -c -O ${DATA_PATH}/dev_audio.z02 https://zenodo.org/record/4060432/files/FSD50K.dev_audio.z02?download=1\n",
    "!wget -q -c -O ${DATA_PATH}/dev_audio.z03 https://zenodo.org/record/4060432/files/FSD50K.dev_audio.z03?download=1\n",
    "!wget -q -c -O ${DATA_PATH}/dev_audio.z04 https://zenodo.org/record/4060432/files/FSD50K.dev_audio.z04?download=1\n",
    "!wget -q -c -O ${DATA_PATH}/dev_audio.z05 https://zenodo.org/record/4060432/files/FSD50K.dev_audio.z05?download=1\n",
    "!wget -q -c -O ${DATA_PATH}/dev_audio.zip https://zenodo.org/record/4060432/files/FSD50K.dev_audio.zip?download=1\n",
    "\n",
    "!zip -s 0 ${DATA_PATH}/dev_audio.zip --out ${DATA_PATH}/dev_unsplit.zip # merge split files\n",
    "!unzip -q ${DATA_PATH}/dev_unsplit.zip -d ${DATA_PATH}/"
   ]
  },
  {
   "cell_type": "code",
   "execution_count": null,
   "metadata": {},
   "outputs": [],
   "source": [
    "# Eval Audio\n",
    "!wget -q -c -O ${DATA_PATH}/eval_audio.z01 https://zenodo.org/record/4060432/files/FSD50K.eval_audio.z01?download=1\n",
    "!wget -q -c -O ${DATA_PATH}/eval_audio.zip https://zenodo.org/record/4060432/files/FSD50K.eval_audio.zip?download=1\n",
    "\n",
    "!zip -s 0 ${DATA_PATH}/eval_audio.zip --out ${DATA_PATH}/eval_unsplit.zip # merge split files\n",
    "!unzip -q ${DATA_PATH}/eval_unsplit.zip -d ${DATA_PATH}/"
   ]
  },
  {
   "cell_type": "code",
   "execution_count": null,
   "metadata": {},
   "outputs": [],
   "source": [
    "# Clean up download files\n",
    "!rm -f ${DATA_PATH}/*.zip"
   ]
  },
  {
   "cell_type": "markdown",
   "metadata": {},
   "source": [
    "## Let's load the data!"
   ]
  },
  {
   "cell_type": "markdown",
   "metadata": {},
   "source": [
    "First setup the environment."
   ]
  },
  {
   "cell_type": "code",
   "execution_count": 3,
   "metadata": {},
   "outputs": [
    {
     "name": "stdout",
     "output_type": "stream",
     "text": [
      "Collecting numpy\n",
      "  Downloading numpy-1.23.0-cp310-cp310-manylinux_2_17_x86_64.manylinux2014_x86_64.whl (17.0 MB)\n",
      "\u001b[2K     \u001b[38;2;114;156;31m━━━━━━━━━━━━━━━━━━━━━━━━━━━━━━━━━━━━━━━━\u001b[0m \u001b[32m17.0/17.0 MB\u001b[0m \u001b[31m80.0 MB/s\u001b[0m eta \u001b[36m0:00:00\u001b[0mm eta \u001b[36m0:00:01\u001b[0m[36m0:00:01\u001b[0m\n",
      "\u001b[?25hCollecting pandas\n",
      "  Downloading pandas-1.4.3-cp310-cp310-manylinux_2_17_x86_64.manylinux2014_x86_64.whl (11.6 MB)\n",
      "\u001b[2K     \u001b[38;2;114;156;31m━━━━━━━━━━━━━━━━━━━━━━━━━━━━━━━━━━━━━━━━\u001b[0m \u001b[32m11.6/11.6 MB\u001b[0m \u001b[31m92.6 MB/s\u001b[0m eta \u001b[36m0:00:00\u001b[0m[36m0:00:01\u001b[0mm eta \u001b[36m0:00:01\u001b[0m\n",
      "\u001b[?25hCollecting pytz>=2020.1\n",
      "  Using cached pytz-2022.1-py2.py3-none-any.whl (503 kB)\n",
      "Requirement already satisfied: python-dateutil>=2.8.1 in ./.venv/lib/python3.10/site-packages (from pandas) (2.8.2)\n",
      "Requirement already satisfied: six>=1.5 in ./.venv/lib/python3.10/site-packages (from python-dateutil>=2.8.1->pandas) (1.16.0)\n",
      "Installing collected packages: pytz, numpy, pandas\n",
      "Successfully installed numpy-1.23.0 pandas-1.4.3 pytz-2022.1\n"
     ]
    }
   ],
   "source": [
    "# Run only when needed!\n",
    "!pip install numpy pandas"
   ]
  },
  {
   "cell_type": "code",
   "execution_count": null,
   "metadata": {},
   "outputs": [],
   "source": []
  }
 ],
 "metadata": {
  "kernelspec": {
   "display_name": "Python 3.10.4 ('.venv': venv)",
   "language": "python",
   "name": "python3"
  },
  "language_info": {
   "codemirror_mode": {
    "name": "ipython",
    "version": 3
   },
   "file_extension": ".py",
   "mimetype": "text/x-python",
   "name": "python",
   "nbconvert_exporter": "python",
   "pygments_lexer": "ipython3",
   "version": "3.10.4"
  },
  "orig_nbformat": 4,
  "vscode": {
   "interpreter": {
    "hash": "6ab4dd34b93fd576d528f2f9c5794caf55e321a8f35f080bc46bcf92cf2ae741"
   }
  }
 },
 "nbformat": 4,
 "nbformat_minor": 2
}
