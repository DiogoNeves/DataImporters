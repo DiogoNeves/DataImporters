{
 "cells": [
  {
   "cell_type": "markdown",
   "metadata": {},
   "source": [
    "# Loader for Edward sound lib\n",
    "\n",
    "This library includes both footsteps and the sound of moving with different material clothes."
   ]
  },
  {
   "cell_type": "code",
   "execution_count": 2,
   "metadata": {},
   "outputs": [],
   "source": [
    "CATEGORY = (\"footsteps\", \"clothes_movement\") # TODO: Change!\n",
    "SOURCE_NAME = \"edward_v1.1\"\n",
    "ORIGINAL_PATH = \"./data/original/\" + SOURCE_NAME + \"/\"\n",
    "FOOTSTEPS_PATH = ORIGINAL_PATH + \"WAV/Footsteps/\"\n",
    "CLOTHES_PATH = ORIGINAL_PATH + \"WAV/Clothes_Movement/\"\n",
    "TARGET_PATH = \"./data/intermediate/\" + SOURCE_NAME + \"/\""
   ]
  },
  {
   "cell_type": "markdown",
   "metadata": {},
   "source": [
    "## Get the filenames to parse"
   ]
  },
  {
   "cell_type": "code",
   "execution_count": 3,
   "metadata": {},
   "outputs": [],
   "source": [
    "import os"
   ]
  },
  {
   "cell_type": "code",
   "execution_count": 4,
   "metadata": {},
   "outputs": [],
   "source": [
    "audio_extensions = (\".wav\", \".mp3\", \".flac\", \".aac\", \".m4a\", \".ogg\", \".opus\")\n",
    "\n",
    "def load_filenames(path: str) -> list[str]:\n",
    "    \"Load a list of audio filenames in the directory.\"\n",
    "    return [filename for filename in os.listdir(path)\n",
    "            if filename.endswith(audio_extensions)]"
   ]
  },
  {
   "cell_type": "code",
   "execution_count": 6,
   "metadata": {},
   "outputs": [
    {
     "data": {
      "text/plain": [
       "['589_Foley_Clothes_Movement_Medium_Normal_Walk_Close.wav',\n",
       " '563_Foley_Clothes_Movement_Jeans_Jump_Land_Special_Close.wav',\n",
       " '562_Foley_Clothes_Movement_Jeans_Fast_Walk_Run_Distance.wav',\n",
       " '571_Foley_Clothes_Movement_Jeans_Very_Slow_Walk_Creep_Close.wav',\n",
       " '573_Foley_Clothes_Movement_Light_Fast_Walk_Run_Close.wav']"
      ]
     },
     "execution_count": 6,
     "metadata": {},
     "output_type": "execute_result"
    }
   ],
   "source": [
    "clothes_filenames = load_filenames(CLOTHES_PATH)\n",
    "clothes_filenames[:5]"
   ]
  },
  {
   "cell_type": "code",
   "execution_count": 7,
   "metadata": {},
   "outputs": [
    {
     "data": {
      "text/plain": [
       "['wav', 'wav', 'wav', 'wav', 'wav']"
      ]
     },
     "execution_count": 7,
     "metadata": {},
     "output_type": "execute_result"
    }
   ],
   "source": [
    "extensions = [filename.split(\".\")[-1] for filename in clothes_filenames]\n",
    "assert len(extensions) == len(clothes_filenames)\n",
    "extensions[:5]"
   ]
  },
  {
   "cell_type": "markdown",
   "metadata": {},
   "source": [
    "## Parse the files into labels\n",
    "\n",
    "* TODO: Complete"
   ]
  },
  {
   "cell_type": "code",
   "execution_count": 8,
   "metadata": {},
   "outputs": [],
   "source": [
    "import string\n",
    "import stringcase"
   ]
  },
  {
   "cell_type": "code",
   "execution_count": 9,
   "metadata": {},
   "outputs": [],
   "source": [
    "# We have to lower() first otherwise stringcase.snakecase will prepend multiple underscores\n",
    "def normalise_label(label: str) -> str:\n",
    "    return stringcase.capitalcase(stringcase.snakecase(label.lower().strip()))"
   ]
  },
  {
   "cell_type": "code",
   "execution_count": 10,
   "metadata": {},
   "outputs": [],
   "source": [
    "def get_labels(filename: str) -> list[str]:\n",
    "    \"Parse the filename to get a list of labels.\"\n",
    "    # Remove the prefix and extension\n",
    "    return [filename.split(\"Clothes_Movement_\", maxsplit=1)[1].rsplit(\".\", maxsplit=1)[0]]"
   ]
  },
  {
   "cell_type": "code",
   "execution_count": 12,
   "metadata": {},
   "outputs": [
    {
     "data": {
      "text/plain": [
       "[['Medium_Normal_Walk_Close'],\n",
       " ['Jeans_Jump_Land_Special_Close'],\n",
       " ['Jeans_Fast_Walk_Run_Distance'],\n",
       " ['Jeans_Very_Slow_Walk_Creep_Close'],\n",
       " ['Light_Fast_Walk_Run_Close'],\n",
       " ['Medium_Fast_Walk_Run_Distance'],\n",
       " ['Light_Normal_Walk_Distance'],\n",
       " ['Jeans_Stop_Small_Special_Close'],\n",
       " ['Medium_Very_Slow_Walk_Creep_Close'],\n",
       " ['Medium_Normal_Walk_Distance'],\n",
       " ['Light_Stop_Small_Special_Distance'],\n",
       " ['Medium_Slow_Walk_Distance'],\n",
       " ['Light_Fast_Walk_Run_Distance'],\n",
       " ['Medium_Jump_Land_Special_Close'],\n",
       " ['Jeans_Jump_Land_Special_Distance'],\n",
       " ['Light_Slow_Walk_Close'],\n",
       " ['Jeans_Stop_Small_Special_Distance'],\n",
       " ['Light_Slow_Walk_Distance'],\n",
       " ['Light_Stop_Small_Special_Close'],\n",
       " ['Jeans_Very_Slow_Walk_Creep_Distance'],\n",
       " ['Jeans_Normal_Walk_Distance'],\n",
       " ['Medium_Slow_Walk_Close'],\n",
       " ['Medium_Stop_Small_Special_Close'],\n",
       " ['Light_Jump_Land_Special_Close'],\n",
       " ['Medium_Very_Slow_Walk_Creep_Distance'],\n",
       " ['Medium_Fast_Walk_Run_Close'],\n",
       " ['Medium_Jump_Land_Special_Distance'],\n",
       " ['Jeans_Normal_Walk_Close'],\n",
       " ['Jeans_Slow_Walk_Distance'],\n",
       " ['Medium_Stop_Small_Special_Distance'],\n",
       " ['Light_Jump_Land_Special_Distance'],\n",
       " ['Jeans_Fast_Walk_Run_Close'],\n",
       " ['Light_Very_Slow_Walk_Creep_Close'],\n",
       " ['Jeans_Slow_Walk_Close'],\n",
       " ['Light_Very_Slow_Walk_Creep_Distance'],\n",
       " ['Light_Normal_Walk_Close']]"
      ]
     },
     "execution_count": 12,
     "metadata": {},
     "output_type": "execute_result"
    }
   ],
   "source": [
    "labels = [get_labels(filename) for filename in clothes_filenames]\n",
    "assert len(labels) == len(clothes_filenames)\n",
    "labels"
   ]
  },
  {
   "cell_type": "markdown",
   "metadata": {},
   "source": [
    "## Copy the files to the intermediate folder"
   ]
  },
  {
   "cell_type": "code",
   "execution_count": 14,
   "metadata": {},
   "outputs": [],
   "source": [
    "import xxhash\n",
    "import shutil"
   ]
  },
  {
   "cell_type": "code",
   "execution_count": 15,
   "metadata": {},
   "outputs": [],
   "source": [
    "def get_hash(filename: str) -> str:\n",
    "    \"Get the sha2 hash of the file.\"\n",
    "    with open(os.path.normpath(filename), \"rb\") as f:\n",
    "        return xxhash.xxh64(f.read()).hexdigest()"
   ]
  },
  {
   "cell_type": "code",
   "execution_count": 17,
   "metadata": {},
   "outputs": [
    {
     "data": {
      "text/plain": [
       "['2fe56997f8de5b02.wav',\n",
       " '5e0fc337b16bc512.wav',\n",
       " 'ad7eb7674ef0c3a6.wav',\n",
       " '289b7703cab05b0a.wav',\n",
       " '55241b0f36af1bb7.wav']"
      ]
     },
     "execution_count": 17,
     "metadata": {},
     "output_type": "execute_result"
    }
   ],
   "source": [
    "hashed_filename = [\"{}.{}\".format(get_hash(CLOTHES_PATH + filename), extension)\n",
    "                   for filename, extension in zip(clothes_filenames, extensions)]\n",
    "assert len(hashed_filename) == len(clothes_filenames)\n",
    "hashed_filename[:5]"
   ]
  },
  {
   "cell_type": "code",
   "execution_count": 18,
   "metadata": {},
   "outputs": [],
   "source": [
    "if not os.path.exists(TARGET_PATH):\n",
    "    os.makedirs(TARGET_PATH)"
   ]
  },
  {
   "cell_type": "code",
   "execution_count": 19,
   "metadata": {},
   "outputs": [],
   "source": [
    "# Copy new the files to the target directory\n",
    "for filename, hash in zip(clothes_filenames, hashed_filename):\n",
    "    target_file_path = os.path.join(TARGET_PATH, hash)\n",
    "    if not os.path.exists(target_file_path):\n",
    "        shutil.copy2(CLOTHES_PATH + filename, target_file_path)"
   ]
  },
  {
   "cell_type": "markdown",
   "metadata": {},
   "source": [
    "## Export the CSV rows"
   ]
  },
  {
   "cell_type": "code",
   "execution_count": 20,
   "metadata": {},
   "outputs": [],
   "source": [
    "import csv"
   ]
  },
  {
   "cell_type": "code",
   "execution_count": 21,
   "metadata": {},
   "outputs": [
    {
     "name": "stdout",
     "output_type": "stream",
     "text": [
      "Version: 9\n"
     ]
    }
   ],
   "source": [
    "with open(\"version\", \"r\") as f:\n",
    "    version = int(f.read())\n",
    "print(\"Version:\", version)"
   ]
  },
  {
   "cell_type": "code",
   "execution_count": 24,
   "metadata": {},
   "outputs": [],
   "source": [
    "# Create a CSV file with the labels\n",
    "category_rows = [normalise_label(CATEGORY[1])] * len(labels)\n",
    "label_rows = [\",\".join(l) for l in labels]\n",
    "extra_rows = [\"\"] * len(labels)\n",
    "source_rows = [SOURCE_NAME] * len(labels)\n",
    "version_rows = [version] * len(labels)\n",
    "\n",
    "with open(TARGET_PATH + \"metadata.csv\", \"w\") as f:\n",
    "    writer = csv.writer(f)\n",
    "    writer.writerow([\"filename\", \"category\", \"label\", \"extra\", \"source\", \"version\"])\n",
    "    writer.writerows(zip(hashed_filename, category_rows, label_rows, extra_rows, source_rows, version_rows))"
   ]
  },
  {
   "cell_type": "code",
   "execution_count": null,
   "metadata": {},
   "outputs": [],
   "source": []
  }
 ],
 "metadata": {
  "kernelspec": {
   "display_name": "Python 3.10.4 ('.venv': venv)",
   "language": "python",
   "name": "python3"
  },
  "language_info": {
   "codemirror_mode": {
    "name": "ipython",
    "version": 3
   },
   "file_extension": ".py",
   "mimetype": "text/x-python",
   "name": "python",
   "nbconvert_exporter": "python",
   "pygments_lexer": "ipython3",
   "version": "3.10.4"
  },
  "orig_nbformat": 4,
  "vscode": {
   "interpreter": {
    "hash": "6ab4dd34b93fd576d528f2f9c5794caf55e321a8f35f080bc46bcf92cf2ae741"
   }
  }
 },
 "nbformat": 4,
 "nbformat_minor": 2
}
