{
 "cells": [
  {
   "cell_type": "markdown",
   "metadata": {},
   "source": [
    "# Compile Dataset\n",
    "\n",
    "> This file aggregates all the compiled sources in `intermediate` into the file dataset."
   ]
  },
  {
   "cell_type": "markdown",
   "metadata": {},
   "source": [
    "## Setup the environment and load version"
   ]
  },
  {
   "cell_type": "code",
   "execution_count": 2,
   "metadata": {},
   "outputs": [],
   "source": [
    "import os"
   ]
  },
  {
   "cell_type": "code",
   "execution_count": 3,
   "metadata": {},
   "outputs": [],
   "source": [
    "if not os.path.exists(AUDIO_PATH):\n",
    "    os.makedirs(AUDIO_PATH)"
   ]
  },
  {
   "cell_type": "code",
   "execution_count": null,
   "metadata": {},
   "outputs": [],
   "source": [
    "SOURCES_PATH = \"data/intermediate/\"\n",
    "TARGET_PATH = \"data/dataset/\"\n",
    "METADATA_PATH = TARGET_PATH + \"metadata.csv\"\n",
    "AUDIO_PATH = TARGET_PATH + \"audio/\"\n",
    "\n",
    "sources = [\"space_divers_mini\"]"
   ]
  },
  {
   "cell_type": "markdown",
   "metadata": {},
   "source": [
    "## Aggregate metadata, with the extra columns"
   ]
  },
  {
   "cell_type": "markdown",
   "metadata": {},
   "source": [
    "## Copy all audio data to dataset"
   ]
  },
  {
   "cell_type": "code",
   "execution_count": 1,
   "metadata": {},
   "outputs": [],
   "source": [
    "import shutil\n",
    "import pandas as pd"
   ]
  },
  {
   "cell_type": "code",
   "execution_count": 22,
   "metadata": {},
   "outputs": [],
   "source": [
    "def copy_directory(source: str, target: str):\n",
    "    for filename in os.listdir(source):\n",
    "        if not filename.endswith(\".csv\"):\n",
    "            if not os.path.exists(os.path.join(target, filename)):\n",
    "                shutil.copy2(os.path.join(source, filename), target)"
   ]
  },
  {
   "cell_type": "code",
   "execution_count": 23,
   "metadata": {},
   "outputs": [],
   "source": [
    "dataset_metadata = pd.DataFrame()\n",
    "for source in sources:\n",
    "    source_path = SOURCES_PATH + source + \"/\"\n",
    "    copy_directory(source_path, AUDIO_PATH)\n",
    "    metadata = pd.read_csv(source_path + \"metadata.csv\")\n",
    "    dataset_metadata = pd.concat([dataset_metadata, metadata])\n",
    "dataset_metadata.to_csv(METADATA_PATH, index=False)"
   ]
  },
  {
   "cell_type": "markdown",
   "metadata": {},
   "source": [
    "## Create the package"
   ]
  },
  {
   "cell_type": "code",
   "execution_count": 24,
   "metadata": {},
   "outputs": [],
   "source": [
    "# It syncs with existing dataset, only zipping changed files\n",
    "!cd data ; zip -qq -FSr dataset.zip dataset/"
   ]
  },
  {
   "cell_type": "markdown",
   "metadata": {},
   "source": [
    "## Increment version file once we're done"
   ]
  },
  {
   "cell_type": "code",
   "execution_count": 25,
   "metadata": {},
   "outputs": [
    {
     "name": "stdout",
     "output_type": "stream",
     "text": [
      "Version moved from 4 to 5\n"
     ]
    }
   ],
   "source": [
    "with open(\"version\", \"r\") as f:\n",
    "    version = int(f.read())\n",
    "\n",
    "with open(\"version\", \"w\") as f:\n",
    "    f.write(str(version + 1))\n",
    "\n",
    "print(\"Version moved from {} to {}\".format(version, version + 1))"
   ]
  }
 ],
 "metadata": {
  "kernelspec": {
   "display_name": "Python 3.10.4 ('.venv': venv)",
   "language": "python",
   "name": "python3"
  },
  "language_info": {
   "codemirror_mode": {
    "name": "ipython",
    "version": 3
   },
   "file_extension": ".py",
   "mimetype": "text/x-python",
   "name": "python",
   "nbconvert_exporter": "python",
   "pygments_lexer": "ipython3",
   "version": "3.10.4"
  },
  "orig_nbformat": 4,
  "vscode": {
   "interpreter": {
    "hash": "6ab4dd34b93fd576d528f2f9c5794caf55e321a8f35f080bc46bcf92cf2ae741"
   }
  }
 },
 "nbformat": 4,
 "nbformat_minor": 2
}
