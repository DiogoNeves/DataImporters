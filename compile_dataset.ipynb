{
 "cells": [
  {
   "cell_type": "markdown",
   "metadata": {},
   "source": [
    "# Compile Dataset\n",
    "\n",
    "> This file aggregates all the compiled sources in `intermediate` into the file dataset."
   ]
  },
  {
   "cell_type": "markdown",
   "metadata": {},
   "source": [
    "## Setup the environment and load version"
   ]
  },
  {
   "cell_type": "code",
   "execution_count": 5,
   "metadata": {},
   "outputs": [],
   "source": [
    "SOURCES_PATH = \"data/intermediate/\"\n",
    "TARGET_PATH = \"data/dataset/\"\n",
    "METADATA_PATH = TARGET_PATH + \"metadata.csv\"\n",
    "AUDIO_PATH = TARGET_PATH + \"audio/\"\n",
    "\n",
    "sources = [\"space_divers_mini\"]"
   ]
  },
  {
   "cell_type": "code",
   "execution_count": 3,
   "metadata": {},
   "outputs": [],
   "source": [
    "import os"
   ]
  },
  {
   "cell_type": "code",
   "execution_count": 14,
   "metadata": {},
   "outputs": [
    {
     "name": "stdout",
     "output_type": "stream",
     "text": [
      "Current Version at 1\n"
     ]
    }
   ],
   "source": [
    "with open(\"version\", \"r\") as f:\n",
    "    version = int(f.read())\n",
    "print(\"Current Version at {}\".format(version))"
   ]
  },
  {
   "cell_type": "code",
   "execution_count": 4,
   "metadata": {},
   "outputs": [],
   "source": [
    "if not os.path.exists(AUDIO_PATH):\n",
    "    os.makedirs(AUDIO_PATH)"
   ]
  },
  {
   "cell_type": "markdown",
   "metadata": {},
   "source": [
    "## Aggregate metadata, with the extra columns"
   ]
  },
  {
   "cell_type": "code",
   "execution_count": null,
   "metadata": {},
   "outputs": [],
   "source": [
    "import pandas as pd"
   ]
  },
  {
   "cell_type": "code",
   "execution_count": 26,
   "metadata": {},
   "outputs": [],
   "source": [
    "def get_metadata(source):\n",
    "    metadata = pd.read_csv(source)\n",
    "    metadata[\"split\"] = \"train\"\n",
    "    metadata[\"version\"] = version\n",
    "    return metadata"
   ]
  },
  {
   "cell_type": "markdown",
   "metadata": {},
   "source": [
    "## Copy all audio data to dataset"
   ]
  },
  {
   "cell_type": "code",
   "execution_count": 15,
   "metadata": {},
   "outputs": [],
   "source": [
    "import shutil"
   ]
  },
  {
   "cell_type": "code",
   "execution_count": 27,
   "metadata": {},
   "outputs": [],
   "source": [
    "dataset_metadata = pd.DataFrame()\n",
    "for source in sources:\n",
    "    source_path = SOURCES_PATH + source + \"/\"\n",
    "    shutil.copytree(source_path, AUDIO_PATH,\n",
    "                    ignore=shutil.ignore_patterns(\"*.csv\"),\n",
    "                    dirs_exist_ok=True)\n",
    "    metadata = get_metadata(source_path + \"metadata.csv\")\n",
    "    dataset_metadata = pd.concat([dataset_metadata, metadata])\n",
    "dataset_metadata.to_csv(METADATA_PATH, index=False)"
   ]
  },
  {
   "cell_type": "markdown",
   "metadata": {},
   "source": [
    "## Increment version file once we're done"
   ]
  },
  {
   "cell_type": "code",
   "execution_count": 28,
   "metadata": {},
   "outputs": [
    {
     "name": "stdout",
     "output_type": "stream",
     "text": [
      "Incremented version to 2\n"
     ]
    }
   ],
   "source": [
    "with open(\"version\", \"w\") as f:\n",
    "    version += 1\n",
    "    f.write(str(version))\n",
    "    print(\"Incremented version to {}\".format(version))"
   ]
  },
  {
   "cell_type": "code",
   "execution_count": null,
   "metadata": {},
   "outputs": [],
   "source": []
  }
 ],
 "metadata": {
  "kernelspec": {
   "display_name": "Python 3.10.4 ('.venv': venv)",
   "language": "python",
   "name": "python3"
  },
  "language_info": {
   "codemirror_mode": {
    "name": "ipython",
    "version": 3
   },
   "file_extension": ".py",
   "mimetype": "text/x-python",
   "name": "python",
   "nbconvert_exporter": "python",
   "pygments_lexer": "ipython3",
   "version": "3.10.4"
  },
  "orig_nbformat": 4,
  "vscode": {
   "interpreter": {
    "hash": "6ab4dd34b93fd576d528f2f9c5794caf55e321a8f35f080bc46bcf92cf2ae741"
   }
  }
 },
 "nbformat": 4,
 "nbformat_minor": 2
}
