{
 "cells": [
  {
   "cell_type": "markdown",
   "metadata": {},
   "source": [
    "# Loader for Footsteps PPSFX sound lib"
   ]
  },
  {
   "cell_type": "code",
   "execution_count": 1,
   "metadata": {},
   "outputs": [],
   "source": [
    "CATEGORY = \"footsteps\"\n",
    "SOURCE_NAME = \"footsteps_one_ppsfx_004\"\n",
    "ORIGINAL_PATH = \"./data/original/\" + SOURCE_NAME + \"/\"\n",
    "SAMPLES_PATH = ORIGINAL_PATH + \"Audio/\"\n",
    "METADATA_PATH = ORIGINAL_PATH + \"Documents/PPSFX 004 - Footsteps One Metadata.xls\"\n",
    "TARGET_PATH = \"./data/intermediate/\" + SOURCE_NAME + \"/\""
   ]
  },
  {
   "cell_type": "markdown",
   "metadata": {},
   "source": [
    "## Get the filenames to parse"
   ]
  },
  {
   "cell_type": "code",
   "execution_count": 2,
   "metadata": {},
   "outputs": [],
   "source": [
    "import os"
   ]
  },
  {
   "cell_type": "code",
   "execution_count": 3,
   "metadata": {},
   "outputs": [],
   "source": [
    "audio_extensions = (\".wav\", \".mp3\", \".flac\", \".aac\", \".m4a\", \".ogg\", \".opus\")\n",
    "\n",
    "def load_filenames(path: str) -> list[str]:\n",
    "    \"Load a list of audio filenames in the directory.\"\n",
    "    return [filename for filename in os.listdir(path)\n",
    "            if filename.endswith(audio_extensions)]"
   ]
  },
  {
   "cell_type": "code",
   "execution_count": 4,
   "metadata": {},
   "outputs": [
    {
     "data": {
      "text/plain": [
       "['Footsteps Forest Plain Scuffs.wav',\n",
       " 'Footsteps Forest Plain Stomps.wav',\n",
       " 'Footsteps Forest Plain Walk.wav',\n",
       " 'Footsteps Frozen Stairs Walk.wav',\n",
       " 'Footsteps Grass Scuffs.wav']"
      ]
     },
     "execution_count": 4,
     "metadata": {},
     "output_type": "execute_result"
    }
   ],
   "source": [
    "# We sort to make it easier to match with extra metadata later.\n",
    "filenames = sorted(load_filenames(SAMPLES_PATH))\n",
    "filenames[:5]"
   ]
  },
  {
   "cell_type": "code",
   "execution_count": 5,
   "metadata": {},
   "outputs": [
    {
     "data": {
      "text/plain": [
       "['wav', 'wav', 'wav', 'wav', 'wav']"
      ]
     },
     "execution_count": 5,
     "metadata": {},
     "output_type": "execute_result"
    }
   ],
   "source": [
    "extensions = [filename.split(\".\")[-1] for filename in filenames]\n",
    "assert len(extensions) == len(filenames)\n",
    "extensions[:5]"
   ]
  },
  {
   "cell_type": "markdown",
   "metadata": {},
   "source": [
    "## Parse the files into labels\n",
    "\n",
    "* All file names start with `Footsteps`, which we set as category.  \n",
    "* All file names follow with the type of material/ground they were recorded in, which we separate into a label.  \n",
    "* Some names will then include type (e.g. Walk / Stomps), which we separate into a label.  \n",
    "* Some include variations (e.g. 01 / 02...), which we ignore.  \n",
    "* Some include the step length (e.g. Short / Medium), which we keep.  "
   ]
  },
  {
   "cell_type": "code",
   "execution_count": 6,
   "metadata": {},
   "outputs": [],
   "source": [
    "import string\n",
    "import stringcase"
   ]
  },
  {
   "cell_type": "code",
   "execution_count": 7,
   "metadata": {},
   "outputs": [],
   "source": [
    "# We have to lower() first otherwise stringcase.snakecase will prepend multiple underscores\n",
    "def normalise_label(label: str) -> str:\n",
    "    return stringcase.capitalcase(stringcase.snakecase(label.lower().strip()))"
   ]
  },
  {
   "cell_type": "code",
   "execution_count": 8,
   "metadata": {},
   "outputs": [],
   "source": [
    "def get_step_type(filename: str) -> str:\n",
    "    step_types = (\"Walk\", \"Scuffs\", \"Stomps\", \"Squishes\", \"Wade\", \"Scrape\")\n",
    "    step_label = None\n",
    "    for step in step_types:\n",
    "        if step in filename:\n",
    "            step_label = step\n",
    "    return step_label"
   ]
  },
  {
   "cell_type": "code",
   "execution_count": 9,
   "metadata": {},
   "outputs": [],
   "source": [
    "def get_labels(filename: str) -> list[str]:\n",
    "    \"Parse the filename to get a list of labels.\"\n",
    "    # Remove the prefix and extension\n",
    "    filename = filename.removeprefix(\"Footsteps\").rsplit(\".\", maxsplit=1)[0]\n",
    "\n",
    "    # Remove number at the end of the filename\n",
    "    filename = filename.rsplit(\"0\", maxsplit=1)[0]\n",
    "\n",
    "    # For each step type, we remove it from the filename and add it to the labels\n",
    "    labels = []\n",
    "\n",
    "    step_label = get_step_type(filename)    \n",
    "    if step_label is not None:\n",
    "        filename = filename.replace(\" \" + step_label, \"\")\n",
    "        labels.append(normalise_label(step_label))\n",
    "    \n",
    "    labels.append(normalise_label(filename))\n",
    "\n",
    "    return labels"
   ]
  },
  {
   "cell_type": "code",
   "execution_count": 10,
   "metadata": {},
   "outputs": [
    {
     "data": {
      "text/plain": [
       "[['Scuffs', 'Forest_plain'],\n",
       " ['Stomps', 'Forest_plain'],\n",
       " ['Walk', 'Forest_plain'],\n",
       " ['Walk', 'Frozen_stairs'],\n",
       " ['Scuffs', 'Grass'],\n",
       " ['Stomps', 'Grass'],\n",
       " ['Walk', 'Grass'],\n",
       " ['Scuffs', 'Gravel'],\n",
       " ['Stomps', 'Gravel'],\n",
       " ['Walk', 'Gravel'],\n",
       " ['Scuffs', 'Pine_needle_ground'],\n",
       " ['Stomps', 'Pine_needle_ground'],\n",
       " ['Walk', 'Pine_needle_ground'],\n",
       " ['Scuffs', 'Snow_deep'],\n",
       " ['Walk', 'Snow_deep'],\n",
       " ['Walk', 'Snow_deep'],\n",
       " ['Walk', 'Snow_deep'],\n",
       " ['Scuffs', 'Snow_packed'],\n",
       " ['Stomps', 'Snow_packed'],\n",
       " ['Walk', 'Snow_packed_crunch'],\n",
       " ['Walk', 'Snow_packed_rough'],\n",
       " ['Scrape', 'Snow_long'],\n",
       " ['Scrape', 'Snow_medium'],\n",
       " ['Scrape', 'Snow_short_hard'],\n",
       " ['Scrape', 'Snow_short'],\n",
       " ['Scuffs', 'Wood_scrap'],\n",
       " ['Stomps', 'Wood_scrap'],\n",
       " ['Walk', 'Wood_scrap']]"
      ]
     },
     "execution_count": 10,
     "metadata": {},
     "output_type": "execute_result"
    }
   ],
   "source": [
    "labels = [get_labels(filename) for filename in filenames]\n",
    "assert len(labels) == len(filenames)\n",
    "labels"
   ]
  },
  {
   "cell_type": "markdown",
   "metadata": {},
   "source": [
    "## Get the Extra metadata\n",
    "\n",
    "This sound bank includes an xls with extra metadata."
   ]
  },
  {
   "cell_type": "code",
   "execution_count": 11,
   "metadata": {},
   "outputs": [],
   "source": [
    "import pandas as pd"
   ]
  },
  {
   "cell_type": "code",
   "execution_count": 12,
   "metadata": {},
   "outputs": [
    {
     "data": {
      "text/plain": [
       "[('Footsteps Forest Plain Scuffs.wav',\n",
       "  'Footsteps Forest Plain Sneakers Scuffs Shuffle Rustle Crackle Sony D50'),\n",
       " ('Footsteps Forest Plain Stomps.wav',\n",
       "  'Footsteps Forest Plain Sneakers Stomps Rustle Crackle Sony D50'),\n",
       " ('Footsteps Forest Plain Walk.wav',\n",
       "  'Footsteps Forest Plain Sneakers Walk Rustle Crackle Sony D50'),\n",
       " ('Footsteps Frozen Stairs Walk.wav',\n",
       "  'Footsteps Frozen Stairs Wood Boots Walk Up Down Hollow Ice Crackle Snow Sony D50'),\n",
       " ('Footsteps Grass Scuffs.wav',\n",
       "  'Footsteps Grass Sneakers Scuffs Shuffle Rustle Sony D50')]"
      ]
     },
     "execution_count": 12,
     "metadata": {},
     "output_type": "execute_result"
    }
   ],
   "source": [
    "metadata = pd.read_excel(METADATA_PATH)\n",
    "# Sorted to match with filenames\n",
    "metadata.sort_values(by=\"Filename\", inplace=True)\n",
    "descriptions = metadata[\"BWDescription\"].values\n",
    "\n",
    "assert len(descriptions) == len(filenames)\n",
    "list(zip(filenames, descriptions))[:5]"
   ]
  },
  {
   "cell_type": "markdown",
   "metadata": {},
   "source": [
    "## Copy the files to the intermediate folder"
   ]
  },
  {
   "cell_type": "code",
   "execution_count": 13,
   "metadata": {},
   "outputs": [],
   "source": [
    "import xxhash\n",
    "import shutil"
   ]
  },
  {
   "cell_type": "code",
   "execution_count": 17,
   "metadata": {},
   "outputs": [],
   "source": [
    "def get_hash(filename: str) -> str:\n",
    "    \"Get the sha2 hash of the file.\"\n",
    "    with open(os.path.normpath(filename), \"rb\") as f:\n",
    "        return xxhash.xxh64(f.read()).hexdigest()"
   ]
  },
  {
   "cell_type": "code",
   "execution_count": 18,
   "metadata": {},
   "outputs": [
    {
     "data": {
      "text/plain": [
       "['21dcc2adb5107bc2.wav',\n",
       " 'ce61e38ac2467be4.wav',\n",
       " '18133e0cbcdd080c.wav',\n",
       " '2a058003156613e8.wav',\n",
       " '381210e8584b6c1f.wav']"
      ]
     },
     "execution_count": 18,
     "metadata": {},
     "output_type": "execute_result"
    }
   ],
   "source": [
    "hashed_filename = [\"{}.{}\".format(get_hash(SAMPLES_PATH + filename), extension)\n",
    "                   for filename, extension in zip(filenames, extensions)]\n",
    "assert len(hashed_filename) == len(filenames)\n",
    "hashed_filename[:5]"
   ]
  },
  {
   "cell_type": "code",
   "execution_count": 52,
   "metadata": {},
   "outputs": [],
   "source": [
    "if not os.path.exists(TARGET_PATH):\n",
    "    os.makedirs(TARGET_PATH)"
   ]
  },
  {
   "cell_type": "code",
   "execution_count": 20,
   "metadata": {},
   "outputs": [],
   "source": [
    "# Copy new the files to the target directory\n",
    "for filename, hash in zip(filenames, hashed_filename):\n",
    "    target_file_path = os.path.join(TARGET_PATH, hash)\n",
    "    if not os.path.exists(target_file_path):\n",
    "        shutil.copy2(SAMPLES_PATH + filename, target_file_path)"
   ]
  },
  {
   "cell_type": "markdown",
   "metadata": {},
   "source": [
    "## Export the CSV rows"
   ]
  },
  {
   "cell_type": "code",
   "execution_count": 14,
   "metadata": {},
   "outputs": [],
   "source": [
    "import csv"
   ]
  },
  {
   "cell_type": "code",
   "execution_count": 15,
   "metadata": {},
   "outputs": [
    {
     "name": "stdout",
     "output_type": "stream",
     "text": [
      "Version: 11\n"
     ]
    }
   ],
   "source": [
    "with open(\"version\", \"r\") as f:\n",
    "    version = int(f.read())\n",
    "print(\"Version:\", version)"
   ]
  },
  {
   "cell_type": "code",
   "execution_count": 19,
   "metadata": {},
   "outputs": [],
   "source": [
    "# Create a CSV file with the labels\n",
    "category_rows = [normalise_label(CATEGORY)] * len(labels)\n",
    "label_rows = [\",\".join(l) for l in labels]\n",
    "source_rows = [SOURCE_NAME] * len(labels)\n",
    "version_rows = [version] * len(labels)\n",
    "\n",
    "with open(TARGET_PATH + \"metadata.csv\", \"w\") as f:\n",
    "    writer = csv.writer(f)\n",
    "    writer.writerow([\"filename\", \"category\", \"label\", \"extra\", \"source\", \"version\"])\n",
    "    writer.writerows(zip(hashed_filename, category_rows, label_rows, descriptions, source_rows, version_rows))"
   ]
  },
  {
   "cell_type": "code",
   "execution_count": null,
   "metadata": {},
   "outputs": [],
   "source": []
  }
 ],
 "metadata": {
  "kernelspec": {
   "display_name": "Python 3.10.4 ('.venv': venv)",
   "language": "python",
   "name": "python3"
  },
  "language_info": {
   "codemirror_mode": {
    "name": "ipython",
    "version": 3
   },
   "file_extension": ".py",
   "mimetype": "text/x-python",
   "name": "python",
   "nbconvert_exporter": "python",
   "pygments_lexer": "ipython3",
   "version": "3.10.4"
  },
  "orig_nbformat": 4,
  "vscode": {
   "interpreter": {
    "hash": "6ab4dd34b93fd576d528f2f9c5794caf55e321a8f35f080bc46bcf92cf2ae741"
   }
  }
 },
 "nbformat": 4,
 "nbformat_minor": 2
}
