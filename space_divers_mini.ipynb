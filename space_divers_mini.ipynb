{
 "cells": [
  {
   "cell_type": "markdown",
   "metadata": {},
   "source": [
    "# Loader for Space Divers Mini sound lib"
   ]
  },
  {
   "cell_type": "code",
   "execution_count": 52,
   "metadata": {},
   "outputs": [],
   "source": [
    "SOURCE_NAME = \"space_divers_mini\"\n",
    "ORIGINAL_PATH = \"./data/original/\" + SOURCE_NAME + \"/\"\n",
    "SAMPLES_PATH = ORIGINAL_PATH + \"Samples/\"\n",
    "TARGET_PATH = \"./data/intermediate/\" + SOURCE_NAME + \"/\""
   ]
  },
  {
   "cell_type": "markdown",
   "metadata": {},
   "source": [
    "## Get the filenames to parse"
   ]
  },
  {
   "cell_type": "code",
   "execution_count": 53,
   "metadata": {},
   "outputs": [],
   "source": [
    "import os"
   ]
  },
  {
   "cell_type": "code",
   "execution_count": 54,
   "metadata": {},
   "outputs": [],
   "source": [
    "audio_extensions = (\".wav\", \".mp3\", \".flac\", \".aac\", \".m4a\", \".ogg\", \".opus\")\n",
    "\n",
    "def load_filenames(path: str) -> list[str]:\n",
    "    \"Load a list of audio filenames in the directory.\"\n",
    "    return [filename for filename in os.listdir(path)\n",
    "            if filename.endswith(audio_extensions)]"
   ]
  },
  {
   "cell_type": "code",
   "execution_count": 55,
   "metadata": {},
   "outputs": [
    {
     "data": {
      "text/plain": [
       "['99S LT Ambience Underwater - Coral Sea.wav',\n",
       " '99S LT Manipulate - Distant.wav',\n",
       " '99S LT Impact - Crash Distant A.wav',\n",
       " '99S LT Underwater - Move D.wav',\n",
       " '99S LT Vehicle - Resonation Slow.wav']"
      ]
     },
     "execution_count": 55,
     "metadata": {},
     "output_type": "execute_result"
    }
   ],
   "source": [
    "filenames = load_filenames(SAMPLES_PATH)\n",
    "filenames[:5]"
   ]
  },
  {
   "cell_type": "code",
   "execution_count": 56,
   "metadata": {},
   "outputs": [
    {
     "data": {
      "text/plain": [
       "['wav', 'wav', 'wav', 'wav', 'wav']"
      ]
     },
     "execution_count": 56,
     "metadata": {},
     "output_type": "execute_result"
    }
   ],
   "source": [
    "extensions = [filename.split(\".\")[-1] for filename in filenames]\n",
    "assert len(extensions) == len(filenames)\n",
    "extensions[:5]"
   ]
  },
  {
   "cell_type": "markdown",
   "metadata": {},
   "source": [
    "## Parse the files into labels\n",
    "\n",
    "The titles follow a couple of patterns but follow within 2:  \n",
    "`<space separated categories> - <specific label>.wav`  \n",
    "`<specific label>.wav`  \n",
    "\n",
    "Space separated categories can also include the `-` split.  \n",
    "The specific labels can have `A B C...` variants which get ignored."
   ]
  },
  {
   "cell_type": "code",
   "execution_count": 57,
   "metadata": {},
   "outputs": [],
   "source": [
    "import string\n",
    "import stringcase"
   ]
  },
  {
   "cell_type": "code",
   "execution_count": 58,
   "metadata": {},
   "outputs": [],
   "source": [
    "def parse_filename(filename: str) -> list[str]:\n",
    "    \"Parse the filename to get a list of labels.\"\n",
    "    # Remove the prefix and extension\n",
    "    title = filename.removeprefix(\"99S LT \").rsplit(\".\", maxsplit=1)[0]\n",
    "    *labels, specific_label = title.split(\"-\")\n",
    "    labels = [l.strip() for label in labels for l in label.split()]\n",
    "    # Remove the variant at the end\n",
    "    specific_label = specific_label.rstrip(string.whitespace + string.ascii_uppercase)\n",
    "    # We have to l.lower() first otherwise stringcase.snakecase will prepend multiple underscores\n",
    "    normalise = lambda x: stringcase.capitalcase(stringcase.snakecase(x.lower().strip()))\n",
    "    return [normalise(l) for l in labels + [specific_label]]"
   ]
  },
  {
   "cell_type": "code",
   "execution_count": 59,
   "metadata": {},
   "outputs": [
    {
     "data": {
      "text/plain": [
       "[['Ambience', 'Underwater', 'Coral_sea'],\n",
       " ['Manipulate', 'Distant'],\n",
       " ['Impact', 'Crash_distant'],\n",
       " ['Underwater', 'Move'],\n",
       " ['Vehicle', 'Resonation_slow']]"
      ]
     },
     "execution_count": 59,
     "metadata": {},
     "output_type": "execute_result"
    }
   ],
   "source": [
    "labels = [parse_filename(filename) for filename in filenames]\n",
    "labels[:5]"
   ]
  },
  {
   "cell_type": "markdown",
   "metadata": {},
   "source": [
    "## Copy the files to the intermediate folder"
   ]
  },
  {
   "cell_type": "code",
   "execution_count": 60,
   "metadata": {},
   "outputs": [],
   "source": [
    "import xxhash\n",
    "import shutil"
   ]
  },
  {
   "cell_type": "code",
   "execution_count": 61,
   "metadata": {},
   "outputs": [],
   "source": [
    "def get_hash(filename: str) -> str:\n",
    "    \"Get the sha2 hash of the file.\"\n",
    "    with open(os.path.normpath(filename), \"rb\") as f:\n",
    "        return xxhash.xxh64(f.read()).hexdigest()"
   ]
  },
  {
   "cell_type": "code",
   "execution_count": 62,
   "metadata": {},
   "outputs": [
    {
     "data": {
      "text/plain": [
       "['df329b2f45088143.wav',\n",
       " 'beda557bed5629a2.wav',\n",
       " '56b3dae6f6efd75f.wav',\n",
       " 'baaddb69127f8753.wav',\n",
       " '6c110836db6654e5.wav']"
      ]
     },
     "execution_count": 62,
     "metadata": {},
     "output_type": "execute_result"
    }
   ],
   "source": [
    "hashed_filename = [\"{}.{}\".format(get_hash(SAMPLES_PATH + filename), extension)\n",
    "                   for filename, extension in zip(filenames, extensions)]\n",
    "hashed_filename[:5]"
   ]
  },
  {
   "cell_type": "code",
   "execution_count": 63,
   "metadata": {},
   "outputs": [],
   "source": [
    "if not os.path.exists(TARGET_PATH):\n",
    "    os.makedirs(TARGET_PATH)\n",
    "\n",
    "# Copy the files to the target directory\n",
    "for filename, hash in zip(filenames, hashed_filename):\n",
    "    shutil.copyfile(SAMPLES_PATH + filename, TARGET_PATH + hash)"
   ]
  },
  {
   "cell_type": "markdown",
   "metadata": {},
   "source": [
    "## Export the CSV rows"
   ]
  },
  {
   "cell_type": "code",
   "execution_count": 64,
   "metadata": {},
   "outputs": [],
   "source": [
    "import csv"
   ]
  },
  {
   "cell_type": "code",
   "execution_count": 65,
   "metadata": {},
   "outputs": [
    {
     "name": "stdout",
     "output_type": "stream",
     "text": [
      "Version: 2\n"
     ]
    }
   ],
   "source": [
    "with open(\"version\", \"r\") as f:\n",
    "    version = int(f.read())\n",
    "print(\"Version:\", version)"
   ]
  },
  {
   "cell_type": "code",
   "execution_count": 66,
   "metadata": {},
   "outputs": [],
   "source": [
    "# Create a CSV file with the labels\n",
    "source_rows = [SOURCE_NAME] * len(labels)\n",
    "version_rows = [version] * len(labels)\n",
    "with open(TARGET_PATH + \"metadata.csv\", \"w\") as f:\n",
    "    writer = csv.writer(f)\n",
    "    writer.writerow([\"filename\", \"label\", \"source\", \"version\"])\n",
    "    writer.writerows(zip(hashed_filename, [\",\".join(l) for l in labels], source_rows, version_rows))"
   ]
  },
  {
   "cell_type": "code",
   "execution_count": null,
   "metadata": {},
   "outputs": [],
   "source": []
  }
 ],
 "metadata": {
  "kernelspec": {
   "display_name": "Python 3.10.4 ('.venv': venv)",
   "language": "python",
   "name": "python3"
  },
  "language_info": {
   "codemirror_mode": {
    "name": "ipython",
    "version": 3
   },
   "file_extension": ".py",
   "mimetype": "text/x-python",
   "name": "python",
   "nbconvert_exporter": "python",
   "pygments_lexer": "ipython3",
   "version": "3.10.4"
  },
  "orig_nbformat": 4,
  "vscode": {
   "interpreter": {
    "hash": "6ab4dd34b93fd576d528f2f9c5794caf55e321a8f35f080bc46bcf92cf2ae741"
   }
  }
 },
 "nbformat": 4,
 "nbformat_minor": 2
}
