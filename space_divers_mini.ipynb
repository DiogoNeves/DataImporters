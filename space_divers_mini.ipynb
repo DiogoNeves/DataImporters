{
 "cells": [
  {
   "cell_type": "markdown",
   "metadata": {},
   "source": [
    "# Loader for Space Divers Mini sound lib"
   ]
  },
  {
   "cell_type": "code",
   "execution_count": 1,
   "metadata": {},
   "outputs": [],
   "source": [
    "SOURCE_NAME = \"space_divers_mini\"\n",
    "ORIGINAL_PATH = \"./data/original/\" + SOURCE_NAME + \"/\"\n",
    "TARGET_PATH = \"./data/intermediate/\" + SOURCE_NAME + \"/\""
   ]
  },
  {
   "cell_type": "markdown",
   "metadata": {},
   "source": [
    "## Get the filenames to parse"
   ]
  },
  {
   "cell_type": "code",
   "execution_count": 2,
   "metadata": {},
   "outputs": [],
   "source": [
    "import os"
   ]
  },
  {
   "cell_type": "code",
   "execution_count": 7,
   "metadata": {},
   "outputs": [],
   "source": [
    "def load_filenames(path: str) -> list[str]:\n",
    "    \"Load a list of audio filenames in the directory.\"\n",
    "    filenames = []\n",
    "    for filename in os.listdir(path):\n",
    "        if filename.endswith(\".wav\"):\n",
    "            filenames.append(filename)\n",
    "    return filenames"
   ]
  },
  {
   "cell_type": "code",
   "execution_count": 4,
   "metadata": {},
   "outputs": [
    {
     "data": {
      "text/plain": [
       "['99S LT Ambience Underwater - Coral Sea.wav',\n",
       " '99S LT Manipulate - Distant.wav',\n",
       " '99S LT Impact - Crash Distant A.wav',\n",
       " '99S LT Underwater - Move D.wav',\n",
       " '99S LT Vehicle - Resonation Slow.wav']"
      ]
     },
     "execution_count": 4,
     "metadata": {},
     "output_type": "execute_result"
    }
   ],
   "source": [
    "filenames = load_filenames(ORIGINAL_PATH + \"Samples/\")\n",
    "filenames[:5]"
   ]
  },
  {
   "cell_type": "markdown",
   "metadata": {},
   "source": [
    "## Parse the files into labels\n",
    "\n",
    "The titles follow a couple of patterns but follow within 2:  \n",
    "`<space separated categories> - <specific label>.wav`  \n",
    "`<specific label>.wav`  \n",
    "\n",
    "Space separated categories can also include the `-` split.  \n",
    "The specific labels can have `A B C...` variants which get ignored."
   ]
  },
  {
   "cell_type": "code",
   "execution_count": 66,
   "metadata": {},
   "outputs": [],
   "source": [
    "import string"
   ]
  },
  {
   "cell_type": "code",
   "execution_count": 73,
   "metadata": {},
   "outputs": [],
   "source": [
    "def parse_filename(filename: str) -> list[str]:\n",
    "    \"Parse the filename to get a list of labels.\"\n",
    "    # Remove the prefix and extension\n",
    "    title = filename.removeprefix(\"99S LT \").removesuffix(\".wav\")\n",
    "    *labels, specific_label = title.split(\"-\")\n",
    "    labels = [l.strip() for label in labels for l in label.split()]\n",
    "    # Remove the variant at the end\n",
    "    specific_label = specific_label.rstrip(string.whitespace + string.ascii_uppercase)\n",
    "    return [l.strip() for l in labels + [specific_label]]"
   ]
  },
  {
   "cell_type": "code",
   "execution_count": 74,
   "metadata": {},
   "outputs": [
    {
     "data": {
      "text/plain": [
       "[['Ambience', 'Underwater', 'Coral Sea'],\n",
       " ['Manipulate', 'Distant'],\n",
       " ['Impact', 'Crash Distant'],\n",
       " ['Underwater', 'Move'],\n",
       " ['Vehicle', 'Resonation Slow']]"
      ]
     },
     "execution_count": 74,
     "metadata": {},
     "output_type": "execute_result"
    }
   ],
   "source": [
    "labels = [parse_filename(filename) for filename in filenames]\n",
    "labels[:5]"
   ]
  },
  {
   "cell_type": "markdown",
   "metadata": {},
   "source": [
    "## Copy the files to the intermediate folder"
   ]
  },
  {
   "cell_type": "code",
   "execution_count": null,
   "metadata": {},
   "outputs": [],
   "source": []
  },
  {
   "cell_type": "markdown",
   "metadata": {},
   "source": [
    "## Export the CSV rows"
   ]
  },
  {
   "cell_type": "markdown",
   "metadata": {},
   "source": []
  }
 ],
 "metadata": {
  "kernelspec": {
   "display_name": "Python 3.10.4 ('.venv': venv)",
   "language": "python",
   "name": "python3"
  },
  "language_info": {
   "codemirror_mode": {
    "name": "ipython",
    "version": 3
   },
   "file_extension": ".py",
   "mimetype": "text/x-python",
   "name": "python",
   "nbconvert_exporter": "python",
   "pygments_lexer": "ipython3",
   "version": "3.10.4"
  },
  "orig_nbformat": 4,
  "vscode": {
   "interpreter": {
    "hash": "6ab4dd34b93fd576d528f2f9c5794caf55e321a8f35f080bc46bcf92cf2ae741"
   }
  }
 },
 "nbformat": 4,
 "nbformat_minor": 2
}
