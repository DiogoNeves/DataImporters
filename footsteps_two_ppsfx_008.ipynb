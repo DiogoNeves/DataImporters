{
 "cells": [
  {
   "cell_type": "markdown",
   "metadata": {},
   "source": [
    "# Loader for Footsteps PPSFX sound lib"
   ]
  },
  {
   "cell_type": "code",
   "execution_count": 17,
   "metadata": {},
   "outputs": [],
   "source": [
    "CATEGORY = \"footsteps\"\n",
    "SOURCE_NAME = \"footsteps_two_ppsfx_008\"\n",
    "ORIGINAL_PATH = \"./data/original/\" + SOURCE_NAME + \"/\"\n",
    "SAMPLES_PATH = ORIGINAL_PATH + \"Audio/\"\n",
    "METADATA_PATH = ORIGINAL_PATH + \"Documents/PPSFX008 - Footsteps Two Metadata.xls\"\n",
    "TARGET_PATH = \"./data/intermediate/\" + SOURCE_NAME + \"/\""
   ]
  },
  {
   "cell_type": "markdown",
   "metadata": {},
   "source": [
    "## Get the filenames to parse"
   ]
  },
  {
   "cell_type": "code",
   "execution_count": 2,
   "metadata": {},
   "outputs": [],
   "source": [
    "import os"
   ]
  },
  {
   "cell_type": "code",
   "execution_count": 3,
   "metadata": {},
   "outputs": [],
   "source": [
    "audio_extensions = (\".wav\", \".mp3\", \".flac\", \".aac\", \".m4a\", \".ogg\", \".opus\")\n",
    "\n",
    "def load_filenames(path: str) -> list[str]:\n",
    "    \"Load a list of audio filenames in the directory.\"\n",
    "    return [filename for filename in os.listdir(path)\n",
    "            if filename.endswith(audio_extensions)]"
   ]
  },
  {
   "cell_type": "code",
   "execution_count": 6,
   "metadata": {},
   "outputs": [
    {
     "data": {
      "text/plain": [
       "['Footsteps Dirt Scuffs.wav',\n",
       " 'Footsteps Dirt Stomps.wav',\n",
       " 'Footsteps Dirt Walk.wav',\n",
       " 'Footsteps Dry Sand Scuffs.wav',\n",
       " 'Footsteps Dry Sand Stomps.wav',\n",
       " 'Footsteps Dry Sand Walk.wav',\n",
       " 'Footsteps Dry Swamp Scuffs.wav',\n",
       " 'Footsteps Dry Swamp Stomps.wav',\n",
       " 'Footsteps Dry Swamp Walk.wav',\n",
       " 'Footsteps Forest Plain II Scuffs.wav',\n",
       " 'Footsteps Forest Plain II Stomps.wav',\n",
       " 'Footsteps Forest Plain II Walk.wav',\n",
       " 'Footsteps Grass Long Scuffs.wav',\n",
       " 'Footsteps Grass Long Stomps.wav',\n",
       " 'Footsteps Grass Long Walk.wav',\n",
       " 'Footsteps Grass Short Scuffs.wav',\n",
       " 'Footsteps Grass Short Stomps.wav',\n",
       " 'Footsteps Grass Short Walk.wav',\n",
       " 'Footsteps Water Deep Scuffs.wav',\n",
       " 'Footsteps Water Deep Wade.wav',\n",
       " 'Footsteps Water Shallow Scuffs.wav',\n",
       " 'Footsteps Water Shallow Stomps.wav',\n",
       " 'Footsteps Water Shallow Walk.wav',\n",
       " 'Footsteps Wet Swamp Scuffs.wav',\n",
       " 'Footsteps Wet Swamp Squishes.wav',\n",
       " 'Footsteps Wet Swamp Stomps.wav',\n",
       " 'Footsteps Wet Swamp Walk.wav',\n",
       " 'Footsteps Wooden Stairs Scuffs.wav',\n",
       " 'Footsteps Wooden Stairs Stomps.wav',\n",
       " 'Footsteps Wooden Stairs Walk.wav']"
      ]
     },
     "execution_count": 6,
     "metadata": {},
     "output_type": "execute_result"
    }
   ],
   "source": [
    "# We sort to make it easier to match with extra metadata later.\n",
    "filenames = sorted(load_filenames(SAMPLES_PATH))\n",
    "filenames"
   ]
  },
  {
   "cell_type": "code",
   "execution_count": 22,
   "metadata": {},
   "outputs": [
    {
     "data": {
      "text/plain": [
       "['wav', 'wav', 'wav', 'wav', 'wav']"
      ]
     },
     "execution_count": 22,
     "metadata": {},
     "output_type": "execute_result"
    }
   ],
   "source": [
    "extensions = [filename.split(\".\")[-1] for filename in filenames]\n",
    "assert len(extensions) == len(filenames)\n",
    "extensions[:5]"
   ]
  },
  {
   "cell_type": "markdown",
   "metadata": {},
   "source": [
    "## Parse the files into labels\n",
    "\n",
    "* All file names start with `Footsteps`, which we set as category.  \n",
    "* All file names follow with the type of material/ground they were recorded in, which we separate into a label.  \n",
    "* Some names will then include type (e.g. Walk / Stomps), which we separate into a label.  \n",
    "* One includes variation `Plain II`, which we replace with `Plain`.    "
   ]
  },
  {
   "cell_type": "code",
   "execution_count": 9,
   "metadata": {},
   "outputs": [],
   "source": [
    "import string\n",
    "import stringcase"
   ]
  },
  {
   "cell_type": "code",
   "execution_count": 10,
   "metadata": {},
   "outputs": [],
   "source": [
    "# We have to lower() first otherwise stringcase.snakecase will prepend multiple underscores\n",
    "def normalise_label(label: str) -> str:\n",
    "    return stringcase.capitalcase(stringcase.snakecase(label.lower().strip()))"
   ]
  },
  {
   "cell_type": "code",
   "execution_count": 11,
   "metadata": {},
   "outputs": [],
   "source": [
    "def get_labels(filename: str) -> list[str]:\n",
    "    \"Parse the filename to get a list of labels.\"\n",
    "    # Remove the prefix and extension\n",
    "    filename = filename.removeprefix(\"Footsteps\").rsplit(\".\", maxsplit=1)[0]\n",
    "\n",
    "    # Repalce Plain II with Plain\n",
    "    filename = filename.replace(\"Plain II\", \"Plain\")\n",
    "\n",
    "    # For each step type, we remove it from the filename and add it to the labels\n",
    "    labels = []\n",
    "\n",
    "    step_types = (\"Walk\", \"Scuffs\", \"Stomps\", \"Squishes\", \"Wade\")\n",
    "    step_label = None\n",
    "    for step in step_types:\n",
    "        if step in filename:\n",
    "            step_label = step\n",
    "    \n",
    "    if step_label is not None:\n",
    "        filename = filename.replace(\" \" + step_label, \"\")\n",
    "        labels.append(normalise_label(step_label))\n",
    "    \n",
    "    labels.append(normalise_label(filename))\n",
    "\n",
    "    return labels"
   ]
  },
  {
   "cell_type": "code",
   "execution_count": 12,
   "metadata": {},
   "outputs": [
    {
     "data": {
      "text/plain": [
       "[['Scuffs', 'Dirt'],\n",
       " ['Stomps', 'Dirt'],\n",
       " ['Walk', 'Dirt'],\n",
       " ['Scuffs', 'Dry_sand'],\n",
       " ['Stomps', 'Dry_sand'],\n",
       " ['Walk', 'Dry_sand'],\n",
       " ['Scuffs', 'Dry_swamp'],\n",
       " ['Stomps', 'Dry_swamp'],\n",
       " ['Walk', 'Dry_swamp'],\n",
       " ['Scuffs', 'Forest_plain'],\n",
       " ['Stomps', 'Forest_plain'],\n",
       " ['Walk', 'Forest_plain'],\n",
       " ['Scuffs', 'Grass_long'],\n",
       " ['Stomps', 'Grass_long'],\n",
       " ['Walk', 'Grass_long'],\n",
       " ['Scuffs', 'Grass_short'],\n",
       " ['Stomps', 'Grass_short'],\n",
       " ['Walk', 'Grass_short'],\n",
       " ['Scuffs', 'Water_deep'],\n",
       " ['Wade', 'Water_deep'],\n",
       " ['Scuffs', 'Water_shallow'],\n",
       " ['Stomps', 'Water_shallow'],\n",
       " ['Walk', 'Water_shallow'],\n",
       " ['Scuffs', 'Wet_swamp'],\n",
       " ['Squishes', 'Wet_swamp'],\n",
       " ['Stomps', 'Wet_swamp'],\n",
       " ['Walk', 'Wet_swamp'],\n",
       " ['Scuffs', 'Wooden_stairs'],\n",
       " ['Stomps', 'Wooden_stairs'],\n",
       " ['Walk', 'Wooden_stairs']]"
      ]
     },
     "execution_count": 12,
     "metadata": {},
     "output_type": "execute_result"
    }
   ],
   "source": [
    "labels = [get_labels(filename) for filename in filenames]\n",
    "assert len(labels) == len(filenames)\n",
    "labels"
   ]
  },
  {
   "cell_type": "markdown",
   "metadata": {},
   "source": [
    "## Get the Extra metadata\n",
    "\n",
    "This sound bank includes an xls with extra metadata."
   ]
  },
  {
   "cell_type": "code",
   "execution_count": 13,
   "metadata": {},
   "outputs": [],
   "source": [
    "import pandas as pd"
   ]
  },
  {
   "cell_type": "code",
   "execution_count": 18,
   "metadata": {},
   "outputs": [
    {
     "data": {
      "text/plain": [
       "[('Footsteps Dirt Scuffs.wav',\n",
       "  'Footsteps Dirt Scuffs Sneakers Shuffle Slide Small Rocks Sony D100'),\n",
       " ('Footsteps Dirt Stomps.wav',\n",
       "  'Footsteps Dirt Stomps Sneakers Small Rocks Impact Sony D100'),\n",
       " ('Footsteps Dirt Walk.wav',\n",
       "  'Footsteps Dirt Walk Sneakers Rattle Small Rocks Sony D100'),\n",
       " ('Footsteps Dry Sand Scuffs.wav',\n",
       "  'Footsteps Dry Sand Scuffs Sneakers Shuffle Slide Sony D100'),\n",
       " ('Footsteps Dry Sand Stomps.wav',\n",
       "  'Footsteps Dry Sand Stomps Sneakers Smooth Impact Sony D100')]"
      ]
     },
     "execution_count": 18,
     "metadata": {},
     "output_type": "execute_result"
    }
   ],
   "source": [
    "metadata = pd.read_excel(METADATA_PATH)\n",
    "# Sorted to match with filenames\n",
    "metadata.sort_values(by=\"Filename\", inplace=True)\n",
    "descriptions = metadata[\"BWDescription\"].values\n",
    "\n",
    "assert len(descriptions) == len(filenames)\n",
    "list(zip(filenames, descriptions))[:5]"
   ]
  },
  {
   "cell_type": "markdown",
   "metadata": {},
   "source": [
    "## Copy the files to the intermediate folder"
   ]
  },
  {
   "cell_type": "code",
   "execution_count": 19,
   "metadata": {},
   "outputs": [],
   "source": [
    "import xxhash\n",
    "import shutil"
   ]
  },
  {
   "cell_type": "code",
   "execution_count": 20,
   "metadata": {},
   "outputs": [],
   "source": [
    "def get_hash(filename: str) -> str:\n",
    "    \"Get the sha2 hash of the file.\"\n",
    "    with open(os.path.normpath(filename), \"rb\") as f:\n",
    "        return xxhash.xxh64(f.read()).hexdigest()"
   ]
  },
  {
   "cell_type": "code",
   "execution_count": 23,
   "metadata": {},
   "outputs": [
    {
     "data": {
      "text/plain": [
       "['672c1b72b6e7e0c6.wav',\n",
       " '2eff0b9a61c7d61d.wav',\n",
       " 'f88702cfabaeb850.wav',\n",
       " '8eb3ed1bd6f74884.wav',\n",
       " 'ee425ebac8251f83.wav']"
      ]
     },
     "execution_count": 23,
     "metadata": {},
     "output_type": "execute_result"
    }
   ],
   "source": [
    "hashed_filename = [\"{}.{}\".format(get_hash(SAMPLES_PATH + filename), extension)\n",
    "                   for filename, extension in zip(filenames, extensions)]\n",
    "assert len(hashed_filename) == len(filenames)\n",
    "hashed_filename[:5]"
   ]
  },
  {
   "cell_type": "code",
   "execution_count": 24,
   "metadata": {},
   "outputs": [],
   "source": [
    "if not os.path.exists(TARGET_PATH):\n",
    "    os.makedirs(TARGET_PATH)"
   ]
  },
  {
   "cell_type": "code",
   "execution_count": 25,
   "metadata": {},
   "outputs": [],
   "source": [
    "# Copy new the files to the target directory\n",
    "for filename, hash in zip(filenames, hashed_filename):\n",
    "    target_file_path = os.path.join(TARGET_PATH, hash)\n",
    "    if not os.path.exists(target_file_path):\n",
    "        shutil.copy2(SAMPLES_PATH + filename, target_file_path)"
   ]
  },
  {
   "cell_type": "markdown",
   "metadata": {},
   "source": [
    "## Export the CSV rows"
   ]
  },
  {
   "cell_type": "code",
   "execution_count": 26,
   "metadata": {},
   "outputs": [],
   "source": [
    "import csv"
   ]
  },
  {
   "cell_type": "code",
   "execution_count": 27,
   "metadata": {},
   "outputs": [
    {
     "name": "stdout",
     "output_type": "stream",
     "text": [
      "Version: 8\n"
     ]
    }
   ],
   "source": [
    "with open(\"version\", \"r\") as f:\n",
    "    version = int(f.read())\n",
    "print(\"Version:\", version)"
   ]
  },
  {
   "cell_type": "code",
   "execution_count": 28,
   "metadata": {},
   "outputs": [],
   "source": [
    "# Create a CSV file with the labels\n",
    "category_rows = [normalise_label(CATEGORY)] * len(labels)\n",
    "label_rows = [\",\".join(l) for l in labels]\n",
    "source_rows = [SOURCE_NAME] * len(labels)\n",
    "version_rows = [version] * len(labels)\n",
    "\n",
    "with open(TARGET_PATH + \"metadata.csv\", \"w\") as f:\n",
    "    writer = csv.writer(f)\n",
    "    writer.writerow([\"filename\", \"category\", \"label\", \"extra\", \"source\", \"version\"])\n",
    "    writer.writerows(zip(hashed_filename, category_rows, label_rows, descriptions, source_rows, version_rows))"
   ]
  },
  {
   "cell_type": "code",
   "execution_count": null,
   "metadata": {},
   "outputs": [],
   "source": []
  }
 ],
 "metadata": {
  "kernelspec": {
   "display_name": "Python 3.10.4 ('.venv': venv)",
   "language": "python",
   "name": "python3"
  },
  "language_info": {
   "codemirror_mode": {
    "name": "ipython",
    "version": 3
   },
   "file_extension": ".py",
   "mimetype": "text/x-python",
   "name": "python",
   "nbconvert_exporter": "python",
   "pygments_lexer": "ipython3",
   "version": "3.10.4"
  },
  "orig_nbformat": 4,
  "vscode": {
   "interpreter": {
    "hash": "6ab4dd34b93fd576d528f2f9c5794caf55e321a8f35f080bc46bcf92cf2ae741"
   }
  }
 },
 "nbformat": 4,
 "nbformat_minor": 2
}
