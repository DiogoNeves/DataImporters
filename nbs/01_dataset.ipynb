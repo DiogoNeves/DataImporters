{
 "cells": [
  {
   "cell_type": "code",
   "execution_count": null,
   "metadata": {},
   "outputs": [],
   "source": [
    "#default_exp dataset"
   ]
  },
  {
   "cell_type": "markdown",
   "metadata": {},
   "source": [
    "# Dataset Building\n",
    "\n",
    "> Processes all included sources and compiles them into a single dataset file `data/dataset/dataset.zip`."
   ]
  },
  {
   "cell_type": "code",
   "execution_count": null,
   "metadata": {},
   "outputs": [],
   "source": [
    "#|export\n",
    "\n",
    "from DataImporters.sources.core import Source, process\n",
    "\n",
    "import os\n",
    "import shutil\n",
    "import pandas as pd"
   ]
  },
  {
   "cell_type": "code",
   "execution_count": null,
   "metadata": {},
   "outputs": [],
   "source": [
    "#exporti\n",
    "\n",
    "def _sync_audio_files(source_dir: str, target_dir: str):\n",
    "    \"\"\"Synchronises audio files from source_dir to target_dir. Only copying new files.\"\"\"\n",
    "    for filename in os.listdir(source_dir):\n",
    "        if filename.endswith(\".wav\"):\n",
    "            target_file_path = os.path.join(target_dir, filename)\n",
    "            if not os.path.exists(target_file_path):\n",
    "                shutil.copy2(os.path.join(source_dir, filename), target_file_path)"
   ]
  },
  {
   "cell_type": "code",
   "execution_count": null,
   "metadata": {},
   "outputs": [],
   "source": [
    "#export\n",
    "\n",
    "class Dataset:\n",
    "    def __init__(self, sources: list[Source], data_path: str):\n",
    "        self.sources = sources\n",
    "        self.data_path = data_path\n",
    "        self.intermediate_path = os.path.join(data_path, \"intermediate/\")\n",
    "        self.output_path = os.path.join(data_path, \"dataset/\")\n",
    "        self.audio_output_path = os.path.join(self.output_path, \"audio/\")\n",
    "        self.metadata_output_path = os.path.join(self.output_path, \"metadata.csv\")\n",
    "\n",
    "    def _prepare_output(self):\n",
    "        if not os.path.exists(self.audio_output_path):\n",
    "            os.makedirs(self.audio_output_path)\n",
    "\n",
    "    def _compile_source(self, source: str):\n",
    "        source_path = os.path.join(self.intermediate_path, source.name)\n",
    "        _sync_audio_files(source_path, self.audio_output_path)\n",
    "        return pd.read_csv(os.path.join(source_path, \"metadata.csv\"))\n",
    "    \n",
    "    def _package_data(self):\n",
    "        # It syncs with existing dataset, only zipping changed files\n",
    "        os.system(\"cd {} ; zip -qq -FSr dataset.zip dataset/\".format(self.data_path))\n",
    "    \n",
    "    def compile(self) -> pd.DataFrame:\n",
    "        \"\"\"Compiles a dataset and returns the newly created metadata (already saved).\"\"\"\n",
    "        self._prepare_output()\n",
    "\n",
    "        dataset_metadata = pd.DataFrame()\n",
    "        for source in self.sources:\n",
    "            source_metadata = self._compile_source(source)\n",
    "            dataset_metadata = pd.concat([dataset_metadata, source_metadata])\n",
    "        \n",
    "        clean_dataset = dataset_metadata.drop_duplicates(\"filename\")\n",
    "        diff = len(dataset_metadata) - len(clean_dataset)\n",
    "        if diff != 0:\n",
    "            print(f\"Warning: {diff} duplicate rows found. Some rows were dropped (all files copied).\")\n",
    "            dataset_metadata = clean_dataset\n",
    "        dataset_metadata.to_csv(self.metadata_output_path, index=False)\n",
    "\n",
    "        self._package_data()\n",
    "\n",
    "        return dataset_metadata"
   ]
  },
  {
   "cell_type": "code",
   "execution_count": null,
   "metadata": {},
   "outputs": [
    {
     "data": {
      "text/markdown": [
       "<h4 id=\"Dataset.compile\" class=\"doc_header\"><code>Dataset.compile</code><a href=\"__main__.py#L25\" class=\"source_link\" style=\"float:right\">[source]</a></h4>\n",
       "\n",
       "> <code>Dataset.compile</code>()\n",
       "\n",
       "Compiles a dataset and returns the newly created metadata (already saved)."
      ],
      "text/plain": [
       "<IPython.core.display.Markdown object>"
      ]
     },
     "metadata": {},
     "output_type": "display_data"
    }
   ],
   "source": [
    "#hide_input\n",
    "\n",
    "from nbdev.showdoc import show_doc\n",
    "show_doc(Dataset.compile)"
   ]
  }
 ],
 "metadata": {
  "kernelspec": {
   "display_name": "Python 3.10.4 ('.venv': venv)",
   "language": "python",
   "name": "python3"
  }
 },
 "nbformat": 4,
 "nbformat_minor": 2
}
