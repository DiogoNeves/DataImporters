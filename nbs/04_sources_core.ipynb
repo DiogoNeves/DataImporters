{
 "cells": [
  {
   "cell_type": "code",
   "execution_count": null,
   "metadata": {},
   "outputs": [],
   "source": [
    "#default_exp sources.core"
   ]
  },
  {
   "cell_type": "markdown",
   "metadata": {},
   "source": [
    "# Source Interface\n",
    "\n",
    "> The interface used by the sources for our audio data."
   ]
  },
  {
   "cell_type": "code",
   "execution_count": null,
   "metadata": {},
   "outputs": [],
   "source": [
    "#|export\n",
    "\n",
    "import pandas as pd\n",
    "import os\n",
    "import xxhash\n",
    "import shutil\n",
    "import stringcase\n",
    "\n",
    "# These are based on what I find in the data\n",
    "AUDIO_EXTENSIONS = (\".wav\")"
   ]
  },
  {
   "cell_type": "code",
   "execution_count": null,
   "metadata": {},
   "outputs": [],
   "source": [
    "#export\n",
    "\n",
    "class Source:\n",
    "    \"\"\"All sources should implement this class.\"\"\"\n",
    "    @property\n",
    "    def name(self) -> str:\n",
    "        raise NotImplementedError()\n",
    "    \n",
    "    def get_files(self, root_dir: str) -> list[tuple[str, str]]:\n",
    "        \"\"\"List of paths and files to process, as returned by `get_filenames`.\"\"\"\n",
    "        raise NotImplementedError()\n",
    "    \n",
    "    def get_category(self, path: str, filename: str) -> str:\n",
    "        \"\"\"Category name for the given file (most sources hardcode a single category).\"\"\"\n",
    "        raise NotImplementedError()\n",
    "    \n",
    "    def get_labels(self, path: str, filename: str) -> list[str]:\n",
    "        \"\"\"List of labels for the given file.\"\"\"\n",
    "        raise NotImplementedError()\n",
    "    \n",
    "    def get_extra(self, path: str, filename: str) -> str:\n",
    "        \"\"\"(Optional) Extra information for the given file.\"\"\"\n",
    "        return None"
   ]
  },
  {
   "cell_type": "code",
   "execution_count": null,
   "metadata": {},
   "outputs": [
    {
     "data": {
      "text/markdown": [
       "<h4 id=\"Source.get_files\" class=\"doc_header\"><code>Source.get_files</code><a href=\"__main__.py#L9\" class=\"source_link\" style=\"float:right\">[source]</a></h4>\n",
       "\n",
       "> <code>Source.get_files</code>(**`root_dir`**:`str`)\n",
       "\n",
       "List of paths and files to process, as returned by [`get_filenames`](/DataImporters/sources_core.html#get_filenames)."
      ],
      "text/plain": [
       "<IPython.core.display.Markdown object>"
      ]
     },
     "metadata": {},
     "output_type": "display_data"
    },
    {
     "data": {
      "text/markdown": [
       "<h4 id=\"Source.get_category\" class=\"doc_header\"><code>Source.get_category</code><a href=\"__main__.py#L13\" class=\"source_link\" style=\"float:right\">[source]</a></h4>\n",
       "\n",
       "> <code>Source.get_category</code>(**`path`**:`str`, **`filename`**:`str`)\n",
       "\n",
       "Category name for the given file (most sources hardcode a single category)."
      ],
      "text/plain": [
       "<IPython.core.display.Markdown object>"
      ]
     },
     "metadata": {},
     "output_type": "display_data"
    },
    {
     "data": {
      "text/markdown": [
       "<h4 id=\"Source.get_labels\" class=\"doc_header\"><code>Source.get_labels</code><a href=\"__main__.py#L17\" class=\"source_link\" style=\"float:right\">[source]</a></h4>\n",
       "\n",
       "> <code>Source.get_labels</code>(**`path`**:`str`, **`filename`**:`str`)\n",
       "\n",
       "List of labels for the given file."
      ],
      "text/plain": [
       "<IPython.core.display.Markdown object>"
      ]
     },
     "metadata": {},
     "output_type": "display_data"
    },
    {
     "data": {
      "text/markdown": [
       "<h4 id=\"Source.get_extra\" class=\"doc_header\"><code>Source.get_extra</code><a href=\"__main__.py#L21\" class=\"source_link\" style=\"float:right\">[source]</a></h4>\n",
       "\n",
       "> <code>Source.get_extra</code>(**`path`**:`str`, **`filename`**:`str`)\n",
       "\n",
       "(Optional) Extra information for the given file."
      ],
      "text/plain": [
       "<IPython.core.display.Markdown object>"
      ]
     },
     "metadata": {},
     "output_type": "display_data"
    }
   ],
   "source": [
    "#hide_input\n",
    "\n",
    "from nbdev.showdoc import show_doc\n",
    "show_doc(Source.get_files)\n",
    "show_doc(Source.get_category)\n",
    "show_doc(Source.get_labels)\n",
    "show_doc(Source.get_extra)"
   ]
  },
  {
   "cell_type": "markdown",
   "metadata": {},
   "source": [
    "## Useful functions to process the filenames"
   ]
  },
  {
   "cell_type": "code",
   "execution_count": null,
   "metadata": {},
   "outputs": [],
   "source": [
    "#export\n",
    "\n",
    "def normalise_label(label: str) -> str:\n",
    "    \"\"\"Normalise a label to be used in the metadata\n",
    "    (`process` should call this automatically).\"\"\"\n",
    "    return stringcase.capitalcase(stringcase.snakecase(label.lower().strip()))\n",
    "\n",
    "def normalise_all_labels(labels: list[str]) -> list[str]:\n",
    "    return [normalise_label(label) for label in labels]"
   ]
  },
  {
   "cell_type": "code",
   "execution_count": null,
   "metadata": {},
   "outputs": [],
   "source": [
    "#export\n",
    "\n",
    "def get_footstep_type(filename: str) -> str:\n",
    "    step_types = (\"walk\", \"scuffs\", \"stomps\", \"squishes\", \"wade\", \"scrape\")\n",
    "    for step in step_types:\n",
    "        if step in filename.lower():\n",
    "            return step\n",
    "    return None"
   ]
  },
  {
   "cell_type": "markdown",
   "metadata": {},
   "source": [
    "## Some other useful functions"
   ]
  },
  {
   "cell_type": "code",
   "execution_count": null,
   "metadata": {},
   "outputs": [],
   "source": [
    "#export\n",
    "\n",
    "def get_filenames(root_dir: str) -> list[tuple[str, str]]:\n",
    "    \"List audio filenames in the directory.\"\n",
    "    return ((root, filename) for root, _, files in os.walk(root_dir)\n",
    "            for filename in files\n",
    "            if filename.endswith(AUDIO_EXTENSIONS))"
   ]
  },
  {
   "cell_type": "code",
   "execution_count": null,
   "metadata": {},
   "outputs": [],
   "source": [
    "#export\n",
    "\n",
    "def remove_all_extensions(files: list[tuple[str, str]]) -> list[tuple[str, str]]:\n",
    "    return [(root, os.path.splitext(filename)[0]) for root, filename in files]"
   ]
  },
  {
   "cell_type": "code",
   "execution_count": null,
   "metadata": {},
   "outputs": [],
   "source": [
    "#export\n",
    "\n",
    "def get_hash(file_path: str) -> str:\n",
    "    \"Get the xxhash64 hash of the file.\"\n",
    "    with open(os.path.normpath(file_path), \"rb\") as f:\n",
    "        return xxhash.xxh64(f.read()).hexdigest()"
   ]
  },
  {
   "cell_type": "markdown",
   "metadata": {},
   "source": [
    "## Processing Sources\n",
    "\n",
    "For the most part, implementing the interface above should be enough to call `process`."
   ]
  },
  {
   "cell_type": "code",
   "execution_count": null,
   "metadata": {},
   "outputs": [],
   "source": [
    "#exporti\n",
    "\n",
    "def _get_hashed_filename(path: str, filename: str) -> str:\n",
    "    hash = get_hash(os.path.join(path, filename))\n",
    "    extension = os.path.splitext(filename)[1]\n",
    "    return hash + extension\n",
    "\n",
    "def _prepare_target_dir(target_dir: str):\n",
    "    if not os.path.exists(target_dir):\n",
    "        os.makedirs(target_dir)\n",
    "\n",
    "def _sync_hashed_audio_files(files: tuple[str, str], hashes: list[str], target_dir: str):\n",
    "    for [path, filename], hash in zip(files, hashes):\n",
    "        original_file_path = os.path.join(path, filename)\n",
    "        target_file_path = os.path.join(target_dir, hash)\n",
    "        if not os.path.exists(target_file_path):\n",
    "            shutil.copy2(original_file_path, target_file_path)"
   ]
  },
  {
   "cell_type": "code",
   "execution_count": null,
   "metadata": {},
   "outputs": [],
   "source": [
    "#export\n",
    "\n",
    "def process(source: Source, data_dir: str, version: int) -> pd.DataFrame:\n",
    "    \"\"\"Process source and return the metadata.\"\"\"\n",
    "    assert source.name is not None and source.name.strip() != \"\"\n",
    "\n",
    "    source_dir = os.path.join(data_dir, \"original\", source.name)\n",
    "    files = source.get_files(source_dir)\n",
    "    if len(files) == 0:\n",
    "        raise ValueError(\"No files found in source\")\n",
    "\n",
    "    metadata = pd.DataFrame()\n",
    "    clean_files = remove_all_extensions(files)\n",
    "    metadata[\"filename\"] = hashed_filenames = [_get_hashed_filename(path, filename)\n",
    "                                               for path, filename in files]\n",
    "    metadata[\"category\"] = [source.get_category(path, filename) for path, filename in clean_files]\n",
    "    metadata[\"label\"] = [\",\".join(normalise_all_labels(source.get_labels(path, filename)))\n",
    "                         for path, filename in clean_files]\n",
    "    metadata[\"extra\"] = [source.get_extra(path, filename) for path, filename in clean_files]\n",
    "    metadata[\"source\"] = [source.name] * len(files)\n",
    "    metadata[\"version\"] = [version] * len(files)\n",
    "\n",
    "    target_dir = os.path.join(data_dir, \"intermediate\", source.name)\n",
    "    _prepare_target_dir(target_dir)\n",
    "    \n",
    "    metadata.to_csv(os.path.join(target_dir, \"metadata.csv\"), index=False)\n",
    "    _sync_hashed_audio_files(files, hashed_filenames, target_dir)\n",
    "\n",
    "    return metadata"
   ]
  }
 ],
 "metadata": {
  "kernelspec": {
   "display_name": "Python 3.10.4 ('.venv': venv)",
   "language": "python",
   "name": "python3"
  }
 },
 "nbformat": 4,
 "nbformat_minor": 2
}
