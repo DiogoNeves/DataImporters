{
 "cells": [
  {
   "cell_type": "code",
   "execution_count": null,
   "metadata": {},
   "outputs": [],
   "source": [
    "#default_exp dataset"
   ]
  },
  {
   "cell_type": "markdown",
   "metadata": {},
   "source": [
    "# Compile Dataset\n",
    "\n",
    "> Processes all included sources and compiles them into a single dataset file `data/dataset/dataset.zip`."
   ]
  },
  {
   "cell_type": "code",
   "execution_count": null,
   "metadata": {},
   "outputs": [],
   "source": [
    "import os\n",
    "import shutil\n",
    "import pandas as pd"
   ]
  },
  {
   "cell_type": "code",
   "execution_count": null,
   "metadata": {},
   "outputs": [],
   "source": [
    "#export\n",
    "\n",
    "def sync_audio_files(source_dir: str, target_dir: str):\n",
    "    for filename in os.listdir(source_dir):\n",
    "        if filename.endswith(\".wav\"):\n",
    "            target_file_path = os.path.join(target_dir, filename)\n",
    "            if not os.path.exists(target_file_path):\n",
    "                shutil.copy2(os.path.join(source_dir, filename), target_file_path)"
   ]
  },
  {
   "cell_type": "code",
   "execution_count": null,
   "metadata": {},
   "outputs": [],
   "source": [
    "#export\n",
    "\n",
    "DATA_PATH = \"data/\"\n",
    "\n",
    "class Dataset:\n",
    "    def __init__(self, sources: list[str], data_path: str = DATA_PATH):\n",
    "        self.sources = sources\n",
    "\n",
    "        self.data_path = data_path\n",
    "\n",
    "        self.original_path = os.path.join(data_path, \"original/\")\n",
    "        self.intermediate_path = os.path.join(data_path, \"intermediate/\")\n",
    "\n",
    "        self.output_path = os.path.join(data_path, \"dataset/\")\n",
    "        self.audio_output_path = os.path.join(self.output_path, \"audio/\")\n",
    "        self.metadata_output_path = os.path.join(self.output_path, \"metadata.csv\")\n",
    "\n",
    "    def _prepare_output(self):\n",
    "        if not os.path.exists(self.audio_output_path):\n",
    "            os.makedirs(self.audio_output_path)\n",
    "\n",
    "    def _compile_source(self, source: str):\n",
    "        source_path = os.path.join(self.intermediate_path, source)\n",
    "        sync_audio_files(source_path, self.audio_output_path)\n",
    "        return pd.read_csv(os.path.join(source_path, \"metadata.csv\"))\n",
    "    \n",
    "    def _package_data(self):\n",
    "        # It syncs with existing dataset, only zipping changed files\n",
    "        os.system(\"cd {} ; zip -qq -FSr dataset.zip {}\".format(self.data_path, self.output_path))\n",
    "    \n",
    "    def compile(self) -> pd.DataFrame:\n",
    "        \"\"\"Compiles a dataset and returns the newly created metadata (already saved).\"\"\"\n",
    "        self._prepare_output()\n",
    "\n",
    "        dataset_metadata = pd.DataFrame()\n",
    "        for source in self.sources:\n",
    "            source_metadata = self._compile_source(source)\n",
    "            dataset_metadata = dataset_metadata.append(source_metadata)\n",
    "        dataset_metadata.to_csv(self.metadata_output_path, index=False)\n",
    "\n",
    "        self._package_data()\n",
    "\n",
    "        return dataset_metadata"
   ]
  },
  {
   "cell_type": "code",
   "execution_count": null,
   "metadata": {},
   "outputs": [],
   "source": [
    "#export\n",
    "\n",
    "def load_version(version_path: str = \"version\"):\n",
    "    with open(version_path, \"r\") as f:\n",
    "        return int(f.read())"
   ]
  },
  {
   "cell_type": "code",
   "execution_count": null,
   "metadata": {},
   "outputs": [],
   "source": [
    "#export\n",
    "\n",
    "def bump_version(version_path: str = \"version\"):\n",
    "    with open(version_path, \"w\") as f:\n",
    "        version = load_version(version_path)\n",
    "        f.write(str(version + 1))\n",
    "        print(\"Version moved from {} to {}\".format(version, version + 1))"
   ]
  },
  {
   "cell_type": "markdown",
   "metadata": {},
   "source": [
    "## Setup the environment and load version"
   ]
  },
  {
   "cell_type": "code",
   "execution_count": null,
   "metadata": {},
   "outputs": [],
   "source": [
    "sources = [\"space_divers_mini\", \"footsteps_one_ppsfx_004\", \"footsteps_two_ppsfx_008\", \"edward_v1.1\"]"
   ]
  },
  {
   "cell_type": "markdown",
   "metadata": {},
   "source": [
    "## Copy all audio data to dataset"
   ]
  },
  {
   "cell_type": "markdown",
   "metadata": {},
   "source": [
    "Let's confirm we didn't have any files that failed to copy.  \n",
    "If we do, it could be due to:  \n",
    "* Genuine failure to copy  \n",
    "* Some files in the target folder need deleting  \n",
    "  * Please delete them, no code yet\n",
    "* Hash conflict (same file from different sources)  \n",
    "  * In this case, we must debug the sources and make sure there are no duplicates"
   ]
  },
  {
   "cell_type": "code",
   "execution_count": null,
   "metadata": {},
   "outputs": [],
   "source": [
    "#assert len(os.listdir(AUDIO_PATH)) == len(dataset_metadata)"
   ]
  }
 ],
 "metadata": {
  "kernelspec": {
   "display_name": "Python 3.10.4 ('.venv': venv)",
   "language": "python",
   "name": "python3"
  }
 },
 "nbformat": 4,
 "nbformat_minor": 2
}
