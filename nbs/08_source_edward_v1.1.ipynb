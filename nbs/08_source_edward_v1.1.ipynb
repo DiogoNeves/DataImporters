{
 "cells": [
  {
   "cell_type": "code",
   "execution_count": null,
   "metadata": {},
   "outputs": [],
   "source": [
    "#default_exp sources.edward"
   ]
  },
  {
   "cell_type": "markdown",
   "metadata": {},
   "source": [
    "# Source / Edward v1.1\n",
    "\n",
    "> This library includes both footsteps and the sound of moving with different material clothes."
   ]
  },
  {
   "cell_type": "code",
   "execution_count": null,
   "metadata": {},
   "outputs": [],
   "source": [
    "#|export\n",
    "\n",
    "from __future__ import annotations\n",
    "\n",
    "from DataImporters.sources.core import *\n",
    "\n",
    "import os\n",
    "\n",
    "CLOTHES_PREFIX = \"Clothes_Movement\"\n",
    "FOOTSTEPS_PREFIX = \"Footsteps\""
   ]
  },
  {
   "cell_type": "code",
   "execution_count": null,
   "metadata": {},
   "outputs": [],
   "source": [
    "#exports\n",
    "\n",
    "class Edward(Source):\n",
    "    @property\n",
    "    def name(self) -> str:\n",
    "        return \"edward_v1.1\"\n",
    "    \n",
    "    def get_files(self, root_dir: str) -> list[tuple[str, str]]:\n",
    "        samples_dir = os.path.join(root_dir, \"WAV\")\n",
    "        return get_audio_filenames(samples_dir)\n",
    "    \n",
    "    def get_category(self, path: str, filename: str) -> str:\n",
    "        if CLOTHES_PREFIX in filename:\n",
    "            return CLOTHES_PREFIX\n",
    "        elif FOOTSTEPS_PREFIX in filename:\n",
    "            return FOOTSTEPS_PREFIX\n",
    "        else:\n",
    "            raise ValueError(\"Unknown category for filename: \" + filename)\n",
    "    \n",
    "    def get_labels(self, path: str, filename: str) -> list[str]:\n",
    "        # Remove the prefix and extension\n",
    "        category = self.get_category(path, filename)\n",
    "        labels = []\n",
    "\n",
    "        filename = remove_extension(filename).split(category + \"_\", maxsplit=1)[1]\n",
    "\n",
    "        if category == FOOTSTEPS_PREFIX:\n",
    "            # Footsteps start with the type of material\n",
    "            material, filename = filename.split(\"_\", maxsplit=1)\n",
    "            labels.append(material)\n",
    "\n",
    "        step_label = get_footstep_type(filename)\n",
    "        if step_label is not None:\n",
    "            labels.append(step_label)\n",
    "        \n",
    "        labels.append(filename)\n",
    "        return labels"
   ]
  }
 ],
 "metadata": {
  "kernelspec": {
   "display_name": "Python 3.8.9 ('.venv': venv)",
   "language": "python",
   "name": "python3"
  }
 },
 "nbformat": 4,
 "nbformat_minor": 2
}
