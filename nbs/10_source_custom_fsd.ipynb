{
 "cells": [
  {
   "cell_type": "code",
   "execution_count": null,
   "metadata": {},
   "outputs": [],
   "source": [
    "#default_exp sources.custom_fsd"
   ]
  },
  {
   "cell_type": "markdown",
   "metadata": {},
   "source": [
    "# Source / Custom FSD Downloads\n",
    "\n",
    "> We have downloaded the data using a custom FSD scrapper, at https://github.com/DiogoNeves/freesound-scraper/tree/custom  \n",
    "\n",
    "This scraper works by providing a list of queries and then downloading the metadata and audio it can find for those.  \n",
    "The output includes a `metadata.csv` with the output audio details and a `samples` folder with all the audio.  \n",
    "\n",
    "As you'll see below, we tweaked this logic a little bit."
   ]
  },
  {
   "cell_type": "code",
   "execution_count": null,
   "metadata": {},
   "outputs": [],
   "source": [
    "#|export\n",
    "\n",
    "from __future__ import annotations\n",
    "\n",
    "from DataImporters.sources.core import *\n",
    "\n",
    "import os\n",
    "import pandas as pd"
   ]
  },
  {
   "cell_type": "markdown",
   "metadata": {},
   "source": [
    "## Data Import Instructions\n",
    "\n",
    "1. Clone https://github.com/DiogoNeves/freesound-scraper/tree/custom  \n",
    "1. Follow installation instructions  \n",
    "1. Run command\n",
    "\n",
    "```bash\n",
    "python freesounds_scraper.py --query <this_project>/data/original/custom_fsd/query.csv \\\n",
    "\t--target <this_project>/data/original/custom_fsd/samples/ \\\n",
    "\t--data-file-name <this_project>/data/original/custom_fsd/metadata \\\n",
    "\t--download true\n",
    "```"
   ]
  },
  {
   "cell_type": "markdown",
   "metadata": {},
   "source": [
    "### credentials.json\n",
    "\n",
    "```json\n",
    "{\n",
    "\t\"client_id\": \"TKmwjcIrmDFvgcUQtyqm\",\n",
    "\t\"client_secret\": \"ZXPLg0GOZDBc93n2jZ4fmAR9qSMua8Mrsz9sx1Dc\"\n",
    "}\n",
    "```"
   ]
  },
  {
   "cell_type": "markdown",
   "metadata": {},
   "source": [
    "### Fetching the Data\n",
    "\n",
    "> This is expected to be run manually from the notebook.\n",
    "\n",
    "Assuming the scraper is setup as a sibling to this project, we can use it directly from here.  \n",
    "First we break the `query.csv` into one CSV per category, this helps extend the categories later and work around the API rate limiting.  "
   ]
  },
  {
   "cell_type": "code",
   "execution_count": null,
   "metadata": {},
   "outputs": [
    {
     "data": {
      "text/plain": [
       "'/home/diogoneves/Projects/metaphora/DataImporters/data/original/custom_fsd'"
      ]
     },
     "execution_count": null,
     "metadata": {},
     "output_type": "execute_result"
    }
   ],
   "source": [
    "# Break the query.csv into one file per row.\n",
    "ORIGINAL_DIR = os.path.realpath(os.path.join(os.getcwd(), \"../\", \"data/original/custom_fsd/\"))\n",
    "QUERY_PATH = os.path.join(ORIGINAL_DIR, \"query.csv\")\n",
    "CATEGORY_DIR = os.path.join(ORIGINAL_DIR, \"categories/\")\n",
    "SAMPLES_DIR = os.path.join(ORIGINAL_DIR, \"samples/\")\n",
    "\n",
    "ORIGINAL_DIR"
   ]
  },
  {
   "cell_type": "code",
   "execution_count": null,
   "metadata": {},
   "outputs": [],
   "source": [
    "#exporti\n",
    "\n",
    "def _clean_category_name(query):\n",
    "    return query.replace(\"+\", \" \").split(\"&\")[0]"
   ]
  },
  {
   "cell_type": "code",
   "execution_count": null,
   "metadata": {},
   "outputs": [],
   "source": [
    "#hide\n",
    "\n",
    "assert _clean_category_name(\"Test+Category\") == \"Test Category\"\n",
    "assert _clean_category_name(\"test\") == \"test\"\n",
    "assert _clean_category_name(\"test&category\") == \"test\""
   ]
  },
  {
   "cell_type": "code",
   "execution_count": null,
   "metadata": {},
   "outputs": [],
   "source": [
    "import stringcase\n",
    "\n",
    "def filename_from_query(query):\n",
    "    return stringcase.snakecase(_clean_category_name(query)) + \".csv\""
   ]
  },
  {
   "cell_type": "markdown",
   "metadata": {},
   "source": [
    "Split the queries into separate files"
   ]
  },
  {
   "cell_type": "code",
   "execution_count": null,
   "metadata": {},
   "outputs": [],
   "source": [
    "# Read each line of the query.csv file.\n",
    "with open(QUERY_PATH, \"r\") as f:\n",
    "    queries = f.readlines()\n",
    "\n",
    "query_paths = []\n",
    "for row in queries:\n",
    "    # Write a csv file for each query.\n",
    "    query = row.strip()\n",
    "    filename = filename_from_query(query)\n",
    "    path = os.path.join(CATEGORY_DIR, filename)\n",
    "    try:\n",
    "        with open(path, \"w\") as f:\n",
    "            f.write(query)\n",
    "        query_paths.append((path, filename))\n",
    "    except Exception as e:\n",
    "        print(e)\n",
    "        print(f\"Could not write {path}\")"
   ]
  },
  {
   "cell_type": "markdown",
   "metadata": {},
   "source": [
    "Get the commands we can use."
   ]
  },
  {
   "cell_type": "code",
   "execution_count": null,
   "metadata": {},
   "outputs": [
    {
     "name": "stdout",
     "output_type": "stream",
     "text": [
      "Scraper at:  /home/diogoneves/Projects/metaphora/freesound-scraper\n",
      "python freesounds_scraper.py --query ../DataImporters/data/original/custom_fsd/categories/footsteps.csv --target ../DataImporters/data/original/custom_fsd/samples/footsteps --data-file-name ../DataImporters/data/original/custom_fsd/samples/footsteps/metadata --download true\n",
      "python freesounds_scraper.py --query ../DataImporters/data/original/custom_fsd/categories/water.csv --target ../DataImporters/data/original/custom_fsd/samples/water --data-file-name ../DataImporters/data/original/custom_fsd/samples/water/metadata --download true\n",
      "python freesounds_scraper.py --query ../DataImporters/data/original/custom_fsd/categories/birds.csv --target ../DataImporters/data/original/custom_fsd/samples/birds --data-file-name ../DataImporters/data/original/custom_fsd/samples/birds/metadata --download true\n",
      "python freesounds_scraper.py --query ../DataImporters/data/original/custom_fsd/categories/drone.csv --target ../DataImporters/data/original/custom_fsd/samples/drone --data-file-name ../DataImporters/data/original/custom_fsd/samples/drone/metadata --download true\n",
      "python freesounds_scraper.py --query ../DataImporters/data/original/custom_fsd/categories/wood.csv --target ../DataImporters/data/original/custom_fsd/samples/wood --data-file-name ../DataImporters/data/original/custom_fsd/samples/wood/metadata --download true\n",
      "python freesounds_scraper.py --query ../DataImporters/data/original/custom_fsd/categories/wind.csv --target ../DataImporters/data/original/custom_fsd/samples/wind --data-file-name ../DataImporters/data/original/custom_fsd/samples/wind/metadata --download true\n",
      "python freesounds_scraper.py --query ../DataImporters/data/original/custom_fsd/categories/ship_horn.csv --target ../DataImporters/data/original/custom_fsd/samples/ship_horn --data-file-name ../DataImporters/data/original/custom_fsd/samples/ship_horn/metadata --download true\n",
      "python freesounds_scraper.py --query ../DataImporters/data/original/custom_fsd/categories/wood_creak.csv --target ../DataImporters/data/original/custom_fsd/samples/wood_creak --data-file-name ../DataImporters/data/original/custom_fsd/samples/wood_creak/metadata --download true\n",
      "python freesounds_scraper.py --query ../DataImporters/data/original/custom_fsd/categories/sword_hit.csv --target ../DataImporters/data/original/custom_fsd/samples/sword_hit --data-file-name ../DataImporters/data/original/custom_fsd/samples/sword_hit/metadata --download true\n",
      "python freesounds_scraper.py --query ../DataImporters/data/original/custom_fsd/categories/monster_roar.csv --target ../DataImporters/data/original/custom_fsd/samples/monster_roar --data-file-name ../DataImporters/data/original/custom_fsd/samples/monster_roar/metadata --download true\n",
      "python freesounds_scraper.py --query ../DataImporters/data/original/custom_fsd/categories/zombie_noises.csv --target ../DataImporters/data/original/custom_fsd/samples/zombie_noises --data-file-name ../DataImporters/data/original/custom_fsd/samples/zombie_noises/metadata --download true\n",
      "python freesounds_scraper.py --query ../DataImporters/data/original/custom_fsd/categories/ghost.csv --target ../DataImporters/data/original/custom_fsd/samples/ghost --data-file-name ../DataImporters/data/original/custom_fsd/samples/ghost/metadata --download true\n",
      "python freesounds_scraper.py --query ../DataImporters/data/original/custom_fsd/categories/laser.csv --target ../DataImporters/data/original/custom_fsd/samples/laser --data-file-name ../DataImporters/data/original/custom_fsd/samples/laser/metadata --download true\n",
      "python freesounds_scraper.py --query ../DataImporters/data/original/custom_fsd/categories/alien.csv --target ../DataImporters/data/original/custom_fsd/samples/alien --data-file-name ../DataImporters/data/original/custom_fsd/samples/alien/metadata --download true\n",
      "python freesounds_scraper.py --query ../DataImporters/data/original/custom_fsd/categories/bending.csv --target ../DataImporters/data/original/custom_fsd/samples/bending --data-file-name ../DataImporters/data/original/custom_fsd/samples/bending/metadata --download true\n",
      "python freesounds_scraper.py --query ../DataImporters/data/original/custom_fsd/categories/wobble_effect.csv --target ../DataImporters/data/original/custom_fsd/samples/wobble_effect --data-file-name ../DataImporters/data/original/custom_fsd/samples/wobble_effect/metadata --download true\n",
      "python freesounds_scraper.py --query ../DataImporters/data/original/custom_fsd/categories/glitch_effect.csv --target ../DataImporters/data/original/custom_fsd/samples/glitch_effect --data-file-name ../DataImporters/data/original/custom_fsd/samples/glitch_effect/metadata --download true\n",
      "python freesounds_scraper.py --query ../DataImporters/data/original/custom_fsd/categories/silly_effect.csv --target ../DataImporters/data/original/custom_fsd/samples/silly_effect --data-file-name ../DataImporters/data/original/custom_fsd/samples/silly_effect/metadata --download true\n",
      "python freesounds_scraper.py --query ../DataImporters/data/original/custom_fsd/categories/robot_movement.csv --target ../DataImporters/data/original/custom_fsd/samples/robot_movement --data-file-name ../DataImporters/data/original/custom_fsd/samples/robot_movement/metadata --download true\n"
     ]
    },
    {
     "data": {
      "text/plain": [
       "'/home/diogoneves/Projects/metaphora/DataImporters/nbs'"
      ]
     },
     "execution_count": null,
     "metadata": {},
     "output_type": "execute_result"
    }
   ],
   "source": [
    "#hide_output\n",
    "\n",
    "SCRAPER_DIR = os.path.realpath(os.path.join(os.getcwd(), \"../../\", \"freesound-scraper/\"))\n",
    "print(\"Scraper at: \", SCRAPER_DIR)\n",
    "\n",
    "current_dir = os.getcwd()\n",
    "os.chdir(SCRAPER_DIR)\n",
    "for path, filename in query_paths:\n",
    "    category = filename.split(\".\")[0]\n",
    "    samples_dir = os.path.relpath(os.path.join(SAMPLES_DIR, category))\n",
    "    print(f\"python freesounds_scraper.py --query {os.path.relpath(path)} --target {samples_dir} --data-file-name {samples_dir}/metadata --download true\")\n",
    "os.chdir(current_dir)\n",
    "os.getcwd()"
   ]
  },
  {
   "cell_type": "markdown",
   "metadata": {},
   "source": [
    "## Format conversion\n",
    "\n",
    "The `metadata.csv` for each category includes the tags and no further title parsing is necessary.  \n",
    "\n",
    "We also assume the category is the query and simply copy it over, with a small amount of processing to unescape the strings (e.g. `\"test+query&s=Rating+(highest+first)\" -> \"test query\"`)."
   ]
  },
  {
   "cell_type": "code",
   "execution_count": null,
   "metadata": {},
   "outputs": [],
   "source": [
    "#exporti\n",
    "\n",
    "def _category_renames(category: str) -> str:\n",
    "    \"Applies renaming rules to category names.\"\n",
    "    rules = [\n",
    "        (\"ship_horn\", \"horn\"),\n",
    "        (\"robot_movement\", \"robot\"),\n",
    "        (\"zombie_noises\", \"zombie\"),\n",
    "        (\"sword_hit\", \"sword\")\n",
    "    ]\n",
    "    for old, new in rules:\n",
    "        if category.lower() == old:\n",
    "            return new\n",
    "    return category"
   ]
  },
  {
   "cell_type": "code",
   "execution_count": null,
   "metadata": {},
   "outputs": [],
   "source": [
    "#exports\n",
    "\n",
    "class CustomFsd(Source):\n",
    "    def preload(self, root_dir: str):\n",
    "        # Load all metadata.csv files into a single dataframe.\n",
    "        columns = [\"id\", \"filename\", \"category\", \"tags\"]\n",
    "        samples_dir = os.path.join(root_dir, \"samples\")\n",
    "        self.metadata = pd.concat([pd.read_csv(os.path.join(path, f), header=None, names=columns)\n",
    "                                   for path, f in get_filenames(samples_dir, \".csv\")])\n",
    "\n",
    "    @property\n",
    "    def name(self) -> str:\n",
    "        return \"custom_fsd\"\n",
    "    \n",
    "    def get_files(self, root_dir: str) -> list[tuple[str, str]]:\n",
    "        return get_audio_filenames(root_dir)\n",
    "    \n",
    "    def get_category(self, path: str, filename: str) -> str:\n",
    "        return _category_renames(os.path.basename(path))\n",
    "    \n",
    "    def get_labels(self, path: str, filename: str) -> list[str]:\n",
    "        tags = self.metadata.loc[self.metadata[\"filename\"] == filename, \"tags\"].values[0]\n",
    "        return tags.split(\",\")"
   ]
  },
  {
   "cell_type": "markdown",
   "metadata": {},
   "source": [
    "### Sample Usage"
   ]
  },
  {
   "cell_type": "code",
   "execution_count": null,
   "metadata": {},
   "outputs": [
    {
     "data": {
      "text/plain": [
       "['horror']"
      ]
     },
     "execution_count": null,
     "metadata": {},
     "output_type": "execute_result"
    }
   ],
   "source": [
    "root_dir = \"../data/original/custom_fsd/\"\n",
    "\n",
    "source = CustomFsd()\n",
    "source.preload(root_dir)\n",
    "\n",
    "path, filename = source.get_files(root_dir)[0]\n",
    "source.get_labels(path, filename)"
   ]
  }
 ],
 "metadata": {
  "kernelspec": {
   "display_name": "Python 3.8.9 ('.venv': venv)",
   "language": "python",
   "name": "python3"
  }
 },
 "nbformat": 4,
 "nbformat_minor": 4
}
