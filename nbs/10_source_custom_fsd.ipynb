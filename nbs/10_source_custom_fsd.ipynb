{
 "cells": [
  {
   "cell_type": "code",
   "execution_count": null,
   "metadata": {},
   "outputs": [],
   "source": [
    "#default_exp sources.custom_fsd"
   ]
  },
  {
   "cell_type": "markdown",
   "metadata": {},
   "source": [
    "# Source / Custom FSD Downloads\n",
    "\n",
    "> We have downloaded the data using a custom FSD scrapper, at https://github.com/DiogoNeves/freesound-scraper/tree/custom  \n",
    "\n",
    "This scrapper works by providing a list of queries and then downloading the metadata and audio it can find for those.  \n",
    "The output includes a `metadata.csv` with the output audio details and a `samples` folder with all the audio.  "
   ]
  },
  {
   "cell_type": "markdown",
   "metadata": {},
   "source": [
    "## Instructions\n",
    "\n",
    "To run the import:  \n",
    "1. Clone https://github.com/DiogoNeves/freesound-scraper/tree/custom  \n",
    "1. Follow installation instructions  \n",
    "1. Run `python freesounds_scraper.py --target <this_project>/data/original/custom_fsd/samples/ --data-file-name <this_project>/data/original/custom_fsd/metadata --download true --append-to-csv true`  "
   ]
  },
  {
   "cell_type": "code",
   "execution_count": null,
   "metadata": {},
   "outputs": [],
   "source": [
    "#|export\n",
    "\n",
    "from DataImporters.sources.core import *\n",
    "\n",
    "import os"
   ]
  },
  {
   "cell_type": "markdown",
   "metadata": {},
   "source": [
    "### Format conversion\n",
    "\n",
    "The `metadata.csv` includes the tags and no further title parsing is necessary.  \n",
    "\n",
    "We also assume the category is the query and simply copy it over. _Later: with a small amount of processing to unescape the strings (e.g. `\"test+query\" -> \"test query\"`)._"
   ]
  },
  {
   "cell_type": "code",
   "execution_count": null,
   "metadata": {},
   "outputs": [],
   "source": [
    "#exports\n",
    "\n",
    "class CustomFSD(Source):\n",
    "    @property\n",
    "    def name(self) -> str:\n",
    "        return \"custom_fsd\"\n",
    "\n",
    "    def preload(self, root_dir: str):\n",
    "        # TODO: Load the queries and metadata\n",
    "        return super().preload(root_dir)\n",
    "    \n",
    "    def get_files(self, root_dir: str) -> list[tuple[str, str]]:\n",
    "        return get_filenames(root_dir)\n",
    "    \n",
    "    def get_category(self, path: str, filename: str) -> str:\n",
    "        # TODO: Get this from the query\n",
    "        return \"footsteps\"\n",
    "    \n",
    "    def get_labels(self, path: str, filename: str) -> list[str]:\n",
    "        # TODO: Get this from the metadata\n",
    "        return []"
   ]
  }
 ],
 "metadata": {
  "kernelspec": {
   "display_name": "Python 3.10.4 ('.venv': venv)",
   "language": "python",
   "name": "python3"
  }
 },
 "nbformat": 4,
 "nbformat_minor": 2
}
