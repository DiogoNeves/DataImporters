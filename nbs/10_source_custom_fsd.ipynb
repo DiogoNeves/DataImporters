{
 "cells": [
  {
   "cell_type": "code",
   "execution_count": null,
   "metadata": {},
   "outputs": [],
   "source": [
    "#default_exp sources.custom_fsd"
   ]
  },
  {
   "cell_type": "markdown",
   "metadata": {},
   "source": [
    "# Source / Custom FSD Downloads\n",
    "\n",
    "> We have downloaded the data using a custom FSD scrapper, at https://github.com/DiogoNeves/freesound-scraper/tree/custom  \n",
    "\n",
    "This scrapper works by providing a list of queries and then downloading the metadata and audio it can find for those.  \n",
    "The output includes a `metadata.csv` with the output audio details and a `samples` folder with all the audio.  "
   ]
  },
  {
   "cell_type": "code",
   "execution_count": null,
   "metadata": {},
   "outputs": [],
   "source": [
    "#|export\n",
    "\n",
    "from DataImporters.sources.core import *\n",
    "\n",
    "import os\n",
    "import pandas as pd"
   ]
  },
  {
   "cell_type": "markdown",
   "metadata": {},
   "source": [
    "## Data Import Instructions\n",
    "\n",
    "1. Clone https://github.com/DiogoNeves/freesound-scraper/tree/custom  \n",
    "1. Follow installation instructions  \n",
    "1. Run command\n",
    "\n",
    "```bash\n",
    "python freesounds_scraper.py --query <this_project>/data/original/custom_fsd/query.csv \\\n",
    "\t--target <this_project>/data/original/custom_fsd/samples/ \\\n",
    "\t--data-file-name <this_project>/data/original/custom_fsd/metadata \\\n",
    "\t--download true --append-to-csv true\n",
    "```"
   ]
  },
  {
   "cell_type": "markdown",
   "metadata": {},
   "source": [
    "### credentials.json\n",
    "\n",
    "```json\n",
    "{\n",
    "\t\"client_id\": \"TKmwjcIrmDFvgcUQtyqm\",\n",
    "\t\"client_secret\": \"ZXPLg0GOZDBc93n2jZ4fmAR9qSMua8Mrsz9sx1Dc\"\n",
    "}\n",
    "```"
   ]
  },
  {
   "cell_type": "markdown",
   "metadata": {},
   "source": [
    "## Format conversion\n",
    "\n",
    "The `metadata.csv` includes the tags and no further title parsing is necessary.  \n",
    "\n",
    "We also assume the category is the query and simply copy it over, with a small amount of processing to unescape the strings (e.g. `\"test+query&s=Rating+(highest+first)\" -> \"test query\"`)."
   ]
  },
  {
   "cell_type": "code",
   "execution_count": null,
   "metadata": {},
   "outputs": [],
   "source": [
    "#exporti\n",
    "\n",
    "def _clean_category_name(category_name):\n",
    "    return category_name.replace(\"+\", \" \").split(\"&\")[0]"
   ]
  },
  {
   "cell_type": "code",
   "execution_count": null,
   "metadata": {},
   "outputs": [],
   "source": [
    "#hide\n",
    "\n",
    "assert _clean_category_name(\"Test+Category\") == \"Test Category\"\n",
    "assert _clean_category_name(\"test\") == \"test\"\n",
    "assert _clean_category_name(\"test&category\") == \"test\""
   ]
  },
  {
   "cell_type": "code",
   "execution_count": null,
   "metadata": {},
   "outputs": [],
   "source": [
    "#exports\n",
    "\n",
    "class CustomFsd(Source):\n",
    "    def preload(self, root_dir: str):\n",
    "        metadata_path = os.path.join(root_dir, \"metadata.csv\")\n",
    "        columns = [\"id\", \"filename\", \"category\", \"tags\"]\n",
    "        self.metadata = pd.read_csv(metadata_path, header=None, names=columns)\n",
    "\n",
    "    @property\n",
    "    def name(self) -> str:\n",
    "        return \"custom_fsd\"\n",
    "    \n",
    "    def get_files(self, root_dir: str) -> list[tuple[str, str]]:\n",
    "        return get_filenames(root_dir)\n",
    "    \n",
    "    def get_category(self, path: str, filename: str) -> str:\n",
    "        category = self.metadata.loc[self.metadata[\"filename\"] == filename, \"category\"].values[0]\n",
    "        return _clean_category_name(category)\n",
    "    \n",
    "    def get_labels(self, path: str, filename: str) -> list[str]:\n",
    "        tags = self.metadata.loc[self.metadata[\"filename\"] == filename, \"tags\"].values[0]\n",
    "        return tags.split(\",\")"
   ]
  }
 ],
 "metadata": {
  "kernelspec": {
   "display_name": "Python 3.10.4 ('.venv': venv)",
   "language": "python",
   "name": "python3"
  }
 },
 "nbformat": 4,
 "nbformat_minor": 2
}
