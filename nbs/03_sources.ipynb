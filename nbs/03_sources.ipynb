{
 "cells": [
  {
   "cell_type": "code",
   "execution_count": null,
   "metadata": {},
   "outputs": [
    {
     "name": "stdout",
     "output_type": "stream",
     "text": [
      "The autoreload extension is already loaded. To reload it, use:\n",
      "  %reload_ext autoreload\n"
     ]
    }
   ],
   "source": [
    "#hide\n",
    "\n",
    "%load_ext autoreload\n",
    "%autoreload 2"
   ]
  },
  {
   "cell_type": "markdown",
   "metadata": {},
   "source": [
    "# Working with Sources\n",
    "\n",
    "> Examples on how to work with data sources."
   ]
  },
  {
   "cell_type": "markdown",
   "metadata": {},
   "source": [
    "Data Sources define the interface `Source` which, together with the function `process`, deal with most of the heavy lifting of processing the sources.  \n",
    "\n",
    "Let's find out how we would process the `SpaceDiversMini` source.  "
   ]
  },
  {
   "cell_type": "code",
   "execution_count": null,
   "metadata": {},
   "outputs": [],
   "source": [
    "from DataImporters.sources.space_divers_mini import SpaceDiversMini\n",
    "from DataImporters.sources.core import process, remove_all_extensions"
   ]
  },
  {
   "cell_type": "code",
   "execution_count": null,
   "metadata": {},
   "outputs": [],
   "source": [
    "#hide\n",
    "\n",
    "import os\n",
    "\n",
    "DATA_PATH = '../data/'\n",
    "SOURCE_DATA_PATH = os.path.join(DATA_PATH, \"original\", SpaceDiversMini().name)"
   ]
  },
  {
   "cell_type": "markdown",
   "metadata": {},
   "source": [
    "We simply create an instance and call process on the right data folder, which will save and return the new metadata."
   ]
  },
  {
   "cell_type": "code",
   "execution_count": null,
   "metadata": {},
   "outputs": [
    {
     "data": {
      "text/html": [
       "<div>\n",
       "<style scoped>\n",
       "    .dataframe tbody tr th:only-of-type {\n",
       "        vertical-align: middle;\n",
       "    }\n",
       "\n",
       "    .dataframe tbody tr th {\n",
       "        vertical-align: top;\n",
       "    }\n",
       "\n",
       "    .dataframe thead th {\n",
       "        text-align: right;\n",
       "    }\n",
       "</style>\n",
       "<table border=\"1\" class=\"dataframe\">\n",
       "  <thead>\n",
       "    <tr style=\"text-align: right;\">\n",
       "      <th></th>\n",
       "      <th>filename</th>\n",
       "      <th>category</th>\n",
       "      <th>label</th>\n",
       "      <th>extra</th>\n",
       "      <th>source</th>\n",
       "      <th>version</th>\n",
       "    </tr>\n",
       "  </thead>\n",
       "  <tbody>\n",
       "    <tr>\n",
       "      <th>0</th>\n",
       "      <td>beda557bed5629a2.wav</td>\n",
       "      <td>sci-fi</td>\n",
       "      <td>Manipulate,Distant</td>\n",
       "      <td>None</td>\n",
       "      <td>space_divers_mini</td>\n",
       "      <td>1</td>\n",
       "    </tr>\n",
       "    <tr>\n",
       "      <th>1</th>\n",
       "      <td>56b3dae6f6efd75f.wav</td>\n",
       "      <td>sci-fi</td>\n",
       "      <td>Impact,Crash_distant</td>\n",
       "      <td>None</td>\n",
       "      <td>space_divers_mini</td>\n",
       "      <td>1</td>\n",
       "    </tr>\n",
       "    <tr>\n",
       "      <th>2</th>\n",
       "      <td>baaddb69127f8753.wav</td>\n",
       "      <td>sci-fi</td>\n",
       "      <td>Underwater,Move</td>\n",
       "      <td>None</td>\n",
       "      <td>space_divers_mini</td>\n",
       "      <td>1</td>\n",
       "    </tr>\n",
       "    <tr>\n",
       "      <th>3</th>\n",
       "      <td>6c110836db6654e5.wav</td>\n",
       "      <td>sci-fi</td>\n",
       "      <td>Vehicle,Resonation_slow</td>\n",
       "      <td>None</td>\n",
       "      <td>space_divers_mini</td>\n",
       "      <td>1</td>\n",
       "    </tr>\n",
       "    <tr>\n",
       "      <th>4</th>\n",
       "      <td>93d11de0cc4ea6fd.wav</td>\n",
       "      <td>sci-fi</td>\n",
       "      <td>Impact,Crash_distant</td>\n",
       "      <td>None</td>\n",
       "      <td>space_divers_mini</td>\n",
       "      <td>1</td>\n",
       "    </tr>\n",
       "  </tbody>\n",
       "</table>\n",
       "</div>"
      ],
      "text/plain": [
       "               filename category  ...             source version\n",
       "0  beda557bed5629a2.wav   sci-fi  ...  space_divers_mini       1\n",
       "1  56b3dae6f6efd75f.wav   sci-fi  ...  space_divers_mini       1\n",
       "2  baaddb69127f8753.wav   sci-fi  ...  space_divers_mini       1\n",
       "3  6c110836db6654e5.wav   sci-fi  ...  space_divers_mini       1\n",
       "4  93d11de0cc4ea6fd.wav   sci-fi  ...  space_divers_mini       1\n",
       "\n",
       "[5 rows x 6 columns]"
      ]
     },
     "execution_count": null,
     "metadata": {},
     "output_type": "execute_result"
    }
   ],
   "source": [
    "source = SpaceDiversMini()\n",
    "process(source, DATA_PATH, version=1).head(5)"
   ]
  },
  {
   "cell_type": "markdown",
   "metadata": {},
   "source": [
    "## Looking into the Source\n",
    "\n",
    "To understand what's going on, let's look at what the various `Source` functions return."
   ]
  },
  {
   "cell_type": "code",
   "execution_count": null,
   "metadata": {},
   "outputs": [
    {
     "data": {
      "text/plain": [
       "[('../data/original/space_divers_mini/Samples',\n",
       "  '99S LT Manipulate - Distant.wav'),\n",
       " ('../data/original/space_divers_mini/Samples',\n",
       "  '99S LT Impact - Crash Distant A.wav'),\n",
       " ('../data/original/space_divers_mini/Samples',\n",
       "  '99S LT Underwater - Move D.wav')]"
      ]
     },
     "execution_count": null,
     "metadata": {},
     "output_type": "execute_result"
    }
   ],
   "source": [
    "# [path, filename]\n",
    "files = source.get_files(SOURCE_DATA_PATH)[:3]\n",
    "files"
   ]
  },
  {
   "cell_type": "markdown",
   "metadata": {},
   "source": [
    "`process` does it for us, but the remaining methods expect filenames without an extension."
   ]
  },
  {
   "cell_type": "code",
   "execution_count": null,
   "metadata": {},
   "outputs": [
    {
     "data": {
      "text/plain": [
       "[('../data/original/space_divers_mini/Samples', '99S LT Manipulate - Distant'),\n",
       " ('../data/original/space_divers_mini/Samples',\n",
       "  '99S LT Impact - Crash Distant A'),\n",
       " ('../data/original/space_divers_mini/Samples', '99S LT Underwater - Move D')]"
      ]
     },
     "execution_count": null,
     "metadata": {},
     "output_type": "execute_result"
    }
   ],
   "source": [
    "clean_files = remove_all_extensions(files)\n",
    "clean_files"
   ]
  },
  {
   "cell_type": "code",
   "execution_count": null,
   "metadata": {},
   "outputs": [
    {
     "data": {
      "text/plain": [
       "'sci-fi'"
      ]
     },
     "execution_count": null,
     "metadata": {},
     "output_type": "execute_result"
    }
   ],
   "source": [
    "source.get_category(*clean_files[0])"
   ]
  },
  {
   "cell_type": "code",
   "execution_count": null,
   "metadata": {},
   "outputs": [
    {
     "data": {
      "text/plain": [
       "['Underwater', ' Move']"
      ]
     },
     "execution_count": null,
     "metadata": {},
     "output_type": "execute_result"
    }
   ],
   "source": [
    "source.get_labels(*clean_files[-1])"
   ]
  }
 ],
 "metadata": {
  "kernelspec": {
   "display_name": "Python 3.10.4 ('.venv': venv)",
   "language": "python",
   "name": "python3"
  }
 },
 "nbformat": 4,
 "nbformat_minor": 2
}
