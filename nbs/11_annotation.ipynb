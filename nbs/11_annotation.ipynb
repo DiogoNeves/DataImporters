{
 "cells": [
  {
   "cell_type": "code",
   "execution_count": null,
   "metadata": {},
   "outputs": [],
   "source": [
    "#default_exp annotation"
   ]
  },
  {
   "cell_type": "markdown",
   "metadata": {},
   "source": [
    "# Annotation Workflow\n",
    "\n",
    "> Loads and commits manual annotations.\n",
    "\n",
    "Annotations are stored in a CSV file, indexed by file name, which follows the same format and overrides to the annotated `metadata.csv` rows.  \n",
    "Some rows have to be removed, this is a special case which is represented by changing the `version` value to `<delete>`.  \n",
    "\n",
    "The annotations are applied to the final dataset by the `apply_annotations` function.  \n",
    "\n",
    "The usual flow is:  \n",
    "1. Load dataset metadata (fully or for a single source)  \n",
    "1. Load annotations  \n",
    "1. Apply annotations to metadata  \n",
    "\n",
    "In general this is run automatically, with the sample dataset code, in `index`, but you can call it manually and save the result.  "
   ]
  },
  {
   "cell_type": "code",
   "execution_count": null,
   "metadata": {},
   "outputs": [],
   "source": [
    "#|export\n",
    "\n",
    "from __future__ import annotations\n",
    "\n",
    "import pandas as pd\n",
    "from collections import namedtuple\n",
    "\n",
    "Annotation = namedtuple(\"Annotation\", \"replaces deletes\")"
   ]
  },
  {
   "cell_type": "code",
   "execution_count": null,
   "metadata": {},
   "outputs": [],
   "source": [
    "#exporti\n",
    "\n",
    "COLUMNS = [\"filename\", \"category\", \"label\", \"extra\", \"source\", \"version\"]\n",
    "DELETE_KEYWORD = \"<delete>\""
   ]
  },
  {
   "cell_type": "code",
   "execution_count": null,
   "metadata": {},
   "outputs": [],
   "source": [
    "#export\n",
    "\n",
    "def create_annotations(rows: list[pd.Series] = None) -> pd.DataFrame:\n",
    "    return pd.DataFrame(rows, columns=COLUMNS)\n",
    "\n",
    "def load_annotations(annotation_path: str) -> Annotation:\n",
    "    \"\"\"Loads the annotations from a csv file.\"\"\"\n",
    "    annotations = pd.read_csv(annotation_path)\n",
    "    return Annotation(annotations.loc[annotations[\"version\"] != DELETE_KEYWORD],\n",
    "                      annotations.loc[annotations[\"version\"] == DELETE_KEYWORD])\n",
    "\n",
    "def apply_annotations(annotations: Annotation, metadata: pd.DataFrame) -> pd.DataFrame:\n",
    "    \"\"\"Applies the annotations to the metadata (Assumes no duplicates!!).\"\"\"\n",
    "    replaced = metadata.loc[~metadata[\"filename\"].isin(annotations.deletes[\"filename\"])]\n",
    "    replaced = pd.concat([replaced, annotations.replaces])\n",
    "    return replaced.drop_duplicates(subset=[\"filename\"], keep=\"last\")"
   ]
  },
  {
   "cell_type": "code",
   "execution_count": null,
   "metadata": {},
   "outputs": [],
   "source": [
    "# Testing replacement with duplicates\n",
    "rows = [\n",
    "    # Out of order intentionally\n",
    "    [\"test2.wav\", \"Test\", \"Test\", None, \"test\", -1],\n",
    "    [\"test.wav\", \"Replaced\", \"Test,Replaced\", \"Replaced\", \"test\", -1]\n",
    "]\n",
    "deletes = [[\"delete.wav\", DELETE_KEYWORD, DELETE_KEYWORD, DELETE_KEYWORD, DELETE_KEYWORD, -1]]\n",
    "annotations = Annotation(\n",
    "    pd.DataFrame(rows, columns=COLUMNS),\n",
    "    pd.DataFrame(deletes, columns=COLUMNS)\n",
    ")\n",
    "\n",
    "rows = [\n",
    "    [\"test.wav\", \"Test\", \"Test\", None, \"test\", 1],\n",
    "    [\"delete.wav\", \"Test\", \"Test,Delete\", None, \"test\", 1],\n",
    "    [\"fine.wav\", \"Test\", \"Fine\", \"all good\", \"test\", 1],\n",
    "    [\"test2.wav\", \"Wrong\", \"Test\", None, \"test\", 1]\n",
    "]\n",
    "metadata = pd.DataFrame(rows, columns=COLUMNS)\n",
    "\n",
    "expected = pd.DataFrame([\n",
    "    [\"test.wav\", \"Replaced\", \"Test,Replaced\", \"Replaced\", \"test\", -1],\n",
    "    [\"fine.wav\", \"Test\", \"Fine\", \"all good\", \"test\", 1],\n",
    "    [\"test2.wav\", \"Test\", \"Test\", None, \"test\", -1]\n",
    "], columns=COLUMNS)\n",
    "actual = apply_annotations(annotations, metadata)\n",
    "\n",
    "assert actual.sort_values(by=\"filename\", ignore_index=True) \\\n",
    "    .equals(expected.sort_values(by=\"filename\", ignore_index=True))"
   ]
  },
  {
   "cell_type": "code",
   "execution_count": null,
   "metadata": {},
   "outputs": [],
   "source": [
    "#export\n",
    "\n",
    "def get_annotation_for(annotations: Annotation, filename: str) -> pd.Series:\n",
    "    if filename in annotations.replaces[\"filename\"].values:\n",
    "        return annotations.replaces.loc[annotations.replaces[\"filename\"] == filename].iloc[0]\n",
    "    elif filename in annotations.deletes[\"filename\"].values:\n",
    "        return annotations.deletes.loc[annotations.deletes[\"filename\"] == filename].iloc[0]\n",
    "    return None"
   ]
  },
  {
   "cell_type": "code",
   "execution_count": null,
   "metadata": {},
   "outputs": [],
   "source": [
    "rows = [\n",
    "    # Out of order intentionally\n",
    "    [\"test2.wav\", \"Test\", \"Test\", None, \"test\", -1],\n",
    "    [\"test.wav\", \"Replaced\", \"Test,Replaced\", \"Replaced\", \"test\", -1]\n",
    "]\n",
    "deletes = [[\"delete.wav\", DELETE_KEYWORD, DELETE_KEYWORD, DELETE_KEYWORD, DELETE_KEYWORD, -1]]\n",
    "annotations = Annotation(\n",
    "    pd.DataFrame(rows, columns=COLUMNS),\n",
    "    pd.DataFrame(deletes, columns=COLUMNS)\n",
    ")\n",
    "\n",
    "assert get_annotation_for(annotations, \"test.wav\").equals(annotations.replaces.loc[annotations.replaces[\"filename\"] == \"test.wav\"].iloc[0])\n",
    "assert get_annotation_for(annotations, \"delete.wav\").equals(annotations.deletes.loc[annotations.deletes[\"filename\"] == \"delete.wav\"].iloc[0])\n",
    "assert get_annotation_for(annotations, \"test3.wav\") is None"
   ]
  },
  {
   "cell_type": "code",
   "execution_count": null,
   "metadata": {},
   "outputs": [],
   "source": [
    "#export\n",
    "\n",
    "def delete_row(row: pd.Series) -> pd.Series:\n",
    "    \"\"\"Deletes a row from the annotations DataFrame.\"\"\"\n",
    "    row = row.copy()\n",
    "    row[5] = DELETE_KEYWORD\n",
    "    return row\n",
    "\n",
    "def is_deleted(row: pd.Series) -> bool:\n",
    "    \"\"\"Returns whether a row is deleted.\"\"\"\n",
    "    return row[5] == DELETE_KEYWORD"
   ]
  },
  {
   "cell_type": "code",
   "execution_count": null,
   "metadata": {},
   "outputs": [],
   "source": [
    "input = pd.Series([\"test.wav\", \"Test\", \"Fine\", \"all good\", \"test\", 1])\n",
    "expected = pd.Series(['test.wav', \"Test\", \"Fine\", \"all good\", \"test\", DELETE_KEYWORD])\n",
    "\n",
    "assert delete_row(input).equals(expected)\n",
    "assert is_deleted(delete_row(input))\n",
    "assert not is_deleted(input)"
   ]
  }
 ],
 "metadata": {
  "kernelspec": {
   "display_name": "Python 3.8.9 ('.venv': venv)",
   "language": "python",
   "name": "python3"
  }
 },
 "nbformat": 4,
 "nbformat_minor": 4
}
