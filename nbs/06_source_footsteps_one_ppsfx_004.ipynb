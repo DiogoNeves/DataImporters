{
 "cells": [
  {
   "cell_type": "code",
   "execution_count": null,
   "metadata": {},
   "outputs": [],
   "source": [
    "#default_exp sources.footsteps_one_ppsfx"
   ]
  },
  {
   "cell_type": "markdown",
   "metadata": {},
   "source": [
    "# Source / Footsteps One PPSFX 004"
   ]
  },
  {
   "cell_type": "code",
   "execution_count": null,
   "metadata": {},
   "outputs": [],
   "source": [
    "#|export\n",
    "\n",
    "from DataImporters.sources.core import *\n",
    "\n",
    "import os\n",
    "import string\n",
    "import re\n",
    "import pandas as pd"
   ]
  },
  {
   "cell_type": "markdown",
   "metadata": {},
   "source": [
    "## Filename Parsing\n",
    "\n",
    "* All file names start with `Footsteps`, which we set as category.  \n",
    "* All file names follow with the type of material/ground they were recorded in, which we separate into a label.  \n",
    "* Some names will then include type (e.g. Walk / Stomps), which we separate into a label.  \n",
    "* Some include variations (e.g. 01 / 02...), which we ignore.  \n",
    "* Some include the step length (e.g. Short / Medium), which we keep.  "
   ]
  },
  {
   "cell_type": "code",
   "execution_count": null,
   "metadata": {},
   "outputs": [],
   "source": [
    "#exports\n",
    "\n",
    "class FootstepsOnePpsfx(Source):\n",
    "    def preload(self, root_dir: str):\n",
    "        metadata_path = os.path.join(root_dir,\n",
    "            \"Documents\", \"PPSFX 004 - Footsteps One Metadata.xls\")\n",
    "        self.extra_metadata = pd.read_excel(metadata_path)\n",
    "    \n",
    "    @property\n",
    "    def name(self) -> str:\n",
    "        return \"footsteps_one_ppsfx_004\"\n",
    "    \n",
    "    def get_files(self, root_dir: str) -> list[tuple[str, str]]:\n",
    "        samples_dir = os.path.join(root_dir, \"Audio\")\n",
    "        return get_filenames(samples_dir)\n",
    "    \n",
    "    def get_category(self, path: str, filename: str) -> str:\n",
    "        return \"footsteps\"\n",
    "    \n",
    "    def get_labels(self, path: str, filename: str) -> list[str]:\n",
    "        # Remove the prefix\n",
    "        filename = remove_extension(filename).removeprefix(\"Footsteps\")\n",
    "\n",
    "        # Remove number at the end of the filename\n",
    "        filename = filename.rsplit(\"0\", maxsplit=1)[0]\n",
    "\n",
    "        # For each step type, we remove it from the filename and add it to the labels\n",
    "        labels = []\n",
    "\n",
    "        step_label = get_footstep_type(filename)    \n",
    "        if step_label is not None:\n",
    "            filename = filename.lower().replace(\" \" + step_label, \"\")\n",
    "            labels.append(normalise_label(step_label))\n",
    "        \n",
    "        labels.append(filename)\n",
    "\n",
    "        return labels\n",
    "    \n",
    "    def get_extra(self, path: str, filename: str) -> str:\n",
    "        row = self.extra_metadata.loc[self.extra_metadata[\"Filename\"] == filename]\n",
    "        return row[\"BWDescription\"].values[0]"
   ]
  }
 ],
 "metadata": {
  "kernelspec": {
   "display_name": "Python 3.10.4 ('.venv': venv)",
   "language": "python",
   "name": "python3"
  }
 },
 "nbformat": 4,
 "nbformat_minor": 2
}
