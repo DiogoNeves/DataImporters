{
 "cells": [
  {
   "cell_type": "markdown",
   "metadata": {},
   "source": [
    "# Audio Data Importers\n",
    "\n",
    "> A collection of data importers for various audio sources. A loose manual data pipeline."
   ]
  },
  {
   "cell_type": "markdown",
   "metadata": {},
   "source": [
    "## Install"
   ]
  },
  {
   "cell_type": "markdown",
   "metadata": {},
   "source": [
    "`pip install dataimporters`"
   ]
  },
  {
   "cell_type": "markdown",
   "metadata": {},
   "source": [
    "### Downloading Audio Sources\n",
    "\n",
    "The audio sources have to be provided manually (for now).  \n",
    "The scripts expect a data directory containing the audio folders:  \n",
    "```\n",
    "root\n",
    " |- data\n",
    "      |- original (where you have to place the soundbanks)\n",
    "      |- intermediate (generated)\n",
    "      |- dataset (generated)\n",
    "```"
   ]
  },
  {
   "cell_type": "markdown",
   "metadata": {},
   "source": [
    "## How to use"
   ]
  },
  {
   "cell_type": "markdown",
   "metadata": {},
   "source": [
    "## Dataset structure\n",
    "\n",
    "See [Dataset README](data/dataset/README.md)."
   ]
  },
  {
   "cell_type": "markdown",
   "metadata": {},
   "source": [
    "## Pipeline\n",
    "\n",
    "```mermaid\n",
    "flowchart TD\n",
    "    sa[(Source A)] --> pa([Normalise data and create CSV]);\n",
    "    pa --> ia[(Intermediate A)];\n",
    "    sb[(Source B)] --> pb([Normalise data and create CSV]);\n",
    "    pb --> ib[(Intermediate B)];\n",
    "    ia & ib & a(WIP: Manual annotations by hash) --> c([Compile])\n",
    "    c-- Some rows can be rejected at this stage --> d[(Dataset)];\n",
    "```\n",
    "\n",
    "Each loader outputs:  \n",
    "* a CSV, which is then compiled into a single metadata.csv  \n",
    "* the files into an intermediate folder  \n",
    "\n",
    "The process above is done so that:  \n",
    "* Each notebook is independent  \n",
    "* We can easily compile a final dataset with different sources  \n",
    "* Easier to make the split consistent across runs  "
   ]
  }
 ],
 "metadata": {
  "kernelspec": {
   "display_name": "Python 3.10.4 ('.venv': venv)",
   "language": "python",
   "name": "python3"
  }
 },
 "nbformat": 4,
 "nbformat_minor": 2
}
