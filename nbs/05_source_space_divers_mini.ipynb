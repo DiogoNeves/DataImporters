{
 "cells": [
  {
   "cell_type": "code",
   "execution_count": null,
   "metadata": {},
   "outputs": [],
   "source": [
    "#default_exp sources.space_divers_mini"
   ]
  },
  {
   "cell_type": "markdown",
   "metadata": {},
   "source": [
    "# Source / Space Divers Mini"
   ]
  },
  {
   "cell_type": "code",
   "execution_count": null,
   "metadata": {},
   "outputs": [],
   "source": [
    "#|export\n",
    "\n",
    "from DataImporters.sources.core import *\n",
    "\n",
    "import os\n",
    "import librosa\n",
    "import string"
   ]
  },
  {
   "cell_type": "code",
   "execution_count": null,
   "metadata": {},
   "outputs": [],
   "source": [
    "#exporti\n",
    "\n",
    "LENGTH_THRESHOLD = 30 # in seconds\n",
    "\n",
    "def _filter_long_files(files: list[tuple[str, str]]) -> list[str]:\n",
    "    \"Filter out files that are too long.\"\n",
    "    return [(path, filename) for path, filename in files\n",
    "            if librosa.get_duration(filename=os.path.join(path, filename)) <= LENGTH_THRESHOLD]"
   ]
  },
  {
   "cell_type": "markdown",
   "metadata": {},
   "source": [
    "## Filename Parsing\n",
    "\n",
    "All files are added to the `Sci_Fi` category.\n",
    "\n",
    "The titles follow a couple of patterns but follow within 2:  \n",
    "`<space separated categories> - <specific label>.wav`  \n",
    "`<specific label>`  \n",
    "\n",
    "Space separated categories can also include the `-` split.  \n",
    "The specific labels can have `A B C...` variants which get ignored."
   ]
  },
  {
   "cell_type": "code",
   "execution_count": null,
   "metadata": {},
   "outputs": [],
   "source": [
    "#exports\n",
    "\n",
    "class SpaceDiversMini(Source):\n",
    "    @property\n",
    "    def name(self) -> str:\n",
    "        return \"space_divers_mini\"\n",
    "    \n",
    "    def get_files(self, root_dir: str) -> list[tuple[str, str]]:\n",
    "        samples_dir = os.path.join(root_dir, \"Samples\")\n",
    "        return _filter_long_files(get_filenames(samples_dir))\n",
    "    \n",
    "    def get_category(self, path: str, filename: str) -> str:\n",
    "        return \"sci-fi\"\n",
    "    \n",
    "    def get_labels(self, path: str, filename: str) -> list[str]:\n",
    "        # Remove the prefix\n",
    "        title = remove_extension(filename).removeprefix(\"99S LT \")\n",
    "        *labels, specific_label = title.split(\"-\")\n",
    "        labels = [l.strip() for label in labels for l in label.split()]\n",
    "        # Remove the variant at the end\n",
    "        specific_label = specific_label.rstrip(string.whitespace + string.ascii_uppercase)\n",
    "        return labels + [specific_label]"
   ]
  }
 ],
 "metadata": {
  "kernelspec": {
   "display_name": "Python 3.10.4 ('.venv': venv)",
   "language": "python",
   "name": "python3"
  }
 },
 "nbformat": 4,
 "nbformat_minor": 2
}
