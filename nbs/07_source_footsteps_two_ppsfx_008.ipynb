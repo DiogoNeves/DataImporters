{
 "cells": [
  {
   "cell_type": "code",
   "execution_count": null,
   "metadata": {},
   "outputs": [],
   "source": [
    "#default_exp sources.footsteps_two_ppsfx"
   ]
  },
  {
   "cell_type": "markdown",
   "metadata": {},
   "source": [
    "# Source / Footsteps Two PPSFX 008"
   ]
  },
  {
   "cell_type": "code",
   "execution_count": null,
   "metadata": {},
   "outputs": [],
   "source": [
    "#|export\n",
    "\n",
    "from __future__ import annotations\n",
    "\n",
    "from DataImporters.sources.core import *\n",
    "from DataImporters.sources.footsteps_one_ppsfx import FootstepsOnePpsfx\n",
    "\n",
    "import os\n",
    "import pandas as pd"
   ]
  },
  {
   "cell_type": "markdown",
   "metadata": {},
   "source": [
    "## Filename Parsing\n",
    "\n",
    "* All file names start with `Footsteps`, which we set as category.  \n",
    "* All file names follow with the type of material/ground they were recorded in, which we separate into a label.  \n",
    "* Some names will then include type (e.g. Walk / Stomps), which we separate into a label.  \n",
    "* One includes variation `Plain II`, which we replace with `Plain`.   "
   ]
  },
  {
   "cell_type": "code",
   "execution_count": null,
   "metadata": {},
   "outputs": [],
   "source": [
    "#exports\n",
    "\n",
    "class FootstepsTwoPpsfx(FootstepsOnePpsfx):\n",
    "    def preload(self, root_dir: str):\n",
    "        metadata_path = os.path.join(root_dir,\n",
    "            \"Documents\", \"PPSFX008 - Footsteps Two Metadata.xls\")\n",
    "        self.extra_metadata = pd.read_excel(metadata_path)\n",
    "\n",
    "    @property\n",
    "    def name(self) -> str:\n",
    "        return \"footsteps_two_ppsfx_008\"\n",
    "    \n",
    "    def get_files(self, root_dir: str) -> list[tuple[str, str]]:\n",
    "        samples_dir = os.path.join(root_dir, \"Audio\")\n",
    "        return get_audio_filenames(samples_dir)\n",
    "    \n",
    "    def get_category(self, path: str, filename: str) -> str:\n",
    "        return \"footsteps\"\n",
    "    \n",
    "    def get_labels(self, path: str, filename: str) -> list[str]:\n",
    "        # Replace Plain II with Plain\n",
    "        filename = filename.replace(\"Plain II\", \"Plain\")\n",
    "\n",
    "        return super().get_labels(path, filename)\n",
    "    \n",
    "    def get_extra(self, path: str, filename: str) -> str:\n",
    "        row = self.extra_metadata.loc[self.extra_metadata[\"Filename\"] == remove_extension(filename)]\n",
    "        return row[\"BWDescription\"].values[0]"
   ]
  }
 ],
 "metadata": {
  "kernelspec": {
   "display_name": "Python 3.8.9 ('.venv': venv)",
   "language": "python",
   "name": "python3"
  }
 },
 "nbformat": 4,
 "nbformat_minor": 2
}
