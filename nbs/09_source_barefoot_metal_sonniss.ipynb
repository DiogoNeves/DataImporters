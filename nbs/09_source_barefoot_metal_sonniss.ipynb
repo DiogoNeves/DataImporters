{
 "cells": [
  {
   "cell_type": "code",
   "execution_count": null,
   "metadata": {},
   "outputs": [],
   "source": [
    "#default_exp sources.barefoot_metal_sonniss"
   ]
  },
  {
   "cell_type": "markdown",
   "metadata": {},
   "source": [
    "# Source / Barefoot on Metal by Sonniss"
   ]
  },
  {
   "cell_type": "code",
   "execution_count": null,
   "metadata": {},
   "outputs": [],
   "source": [
    "#|export\n",
    "\n",
    "from __future__ import annotations\n",
    "\n",
    "from DataImporters.sources.core import *\n",
    "\n",
    "import os"
   ]
  },
  {
   "cell_type": "markdown",
   "metadata": {},
   "source": [
    "## Filename Parsing\n",
    "\n",
    "All files are added to the `Footsteps` category.\n",
    "\n",
    "The titles follow the same pattern:  \n",
    "```\n",
    "FOOTSTEP - Metal Grill Walk Barefoot Male - 26.wav\n",
    "<ignore> -          <parsed>              - <ignore>\n",
    "```"
   ]
  },
  {
   "cell_type": "code",
   "execution_count": null,
   "metadata": {},
   "outputs": [],
   "source": [
    "#exports\n",
    "\n",
    "class BarefootMetalSonniss(Source):\n",
    "    @property\n",
    "    def name(self) -> str:\n",
    "        return \"barefoot_metal_sonniss\"\n",
    "    \n",
    "    def get_files(self, root_dir: str) -> list[tuple[str, str]]:\n",
    "        return get_audio_filenames(root_dir)\n",
    "    \n",
    "    def get_category(self, path: str, filename: str) -> str:\n",
    "        return \"footsteps\"\n",
    "    \n",
    "    def get_labels(self, path: str, filename: str) -> list[str]:\n",
    "        labels = []\n",
    "\n",
    "        filename = remove_extension(filename).split(\"-\")[1]\n",
    "\n",
    "        step_label = get_footstep_type(filename)\n",
    "        if step_label is not None:\n",
    "            filename = filename.lower().replace(\" \" + step_label, \"\")\n",
    "            labels.append(step_label)\n",
    "        \n",
    "        labels.append(filename)\n",
    "        return labels"
   ]
  }
 ],
 "metadata": {
  "kernelspec": {
   "display_name": "Python 3.8.9 ('.venv': venv)",
   "language": "python",
   "name": "python3"
  }
 },
 "nbformat": 4,
 "nbformat_minor": 2
}
